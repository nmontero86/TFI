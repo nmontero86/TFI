{
  "nbformat": 4,
  "nbformat_minor": 0,
  "metadata": {
    "colab": {
      "name": "TFI.ipynb",
      "provenance": [],
      "authorship_tag": "ABX9TyOuZLHAW6myQ4HXmS9UaO8F",
      "include_colab_link": true
    },
    "kernelspec": {
      "name": "python3",
      "display_name": "Python 3"
    }
  },
  "cells": [
    {
      "cell_type": "markdown",
      "metadata": {
        "id": "view-in-github",
        "colab_type": "text"
      },
      "source": [
        "<a href=\"https://colab.research.google.com/github/nmontero86/TFI/blob/gh-pages/TFI.ipynb\" target=\"_parent\"><img src=\"https://colab.research.google.com/assets/colab-badge.svg\" alt=\"Open In Colab\"/></a>"
      ]
    },
    {
      "cell_type": "markdown",
      "metadata": {
        "id": "1qOwQzSrsUi3"
      },
      "source": [
        "# **Trabajo Final Integrador - Marketing**\n"
      ]
    },
    {
      "cell_type": "markdown",
      "metadata": {
        "id": "EALOMPjxsRUL"
      },
      "source": [
        "# Introducción"
      ]
    },
    {
      "cell_type": "markdown",
      "metadata": {
        "id": "n-qu0-Vxv4PY"
      },
      "source": [
        "El siguiente trabajo de investigación se aplica sobre el área de Marketing de una empresa que se dedica a la venta de servicios y productos informáticos. \n",
        "Esta área se encarga de generar campañas de Marketing, utilizando diferentes canales, para poder captar la mayor cantidad de clientes que se interesen en adquirir los productos o servicios promocionados. \n",
        "Los directivos de la empresa analizaron la performance de las diferentes campañas en los diferentes canales y detectaron que ciertas campañas no tenían el resultado esperado, con porcentajes muy bajos o nulos referentes al engagement de los clientes (midiéndose a través de dos métricas específicas: “Responses Creating Leads” y “Converted Leads From Lead Creating Responses”). \n",
        "Se busca analizar la performance actual de las campañas de marketing, entender las variables que entran en juego a la hora de obtener los resultados de engagement y abordando el problema a través del desarrollo de algoritmos de Machine Learning poder predecir si un cliente va a interesarse por los productos y servicios de la empresa. De esa manera se podrán obtener mejores resultados para las dos variables de engagement y por consecuencia generar más ganancias en la aplicación de cada campaña de Marketing.  Esos algoritmos se van a validar y probar, verificando su nivel de efectividad para finalmente escoger aquel que sea el más certero."
      ]
    },
    {
      "cell_type": "markdown",
      "metadata": {
        "id": "z_LowUOr0PNI"
      },
      "source": [
        "# Objetivos"
      ]
    },
    {
      "cell_type": "markdown",
      "metadata": {
        "id": "4pM1HUpy0Vv-"
      },
      "source": [
        "Desarrollar un modelo predictivo que contenga un algoritmo de Machine Learning que permita mejorar la performance de las métricas Responses Creating Leads y Converted Leads From Lead Creating Responses.\n"
      ]
    },
    {
      "cell_type": "markdown",
      "metadata": {
        "id": "3bhIRTr50Z-5"
      },
      "source": [
        "# Objetivos específicos"
      ]
    },
    {
      "cell_type": "markdown",
      "metadata": {
        "id": "itUWyDkq0cbM"
      },
      "source": [
        "*   Desarrollar diferentes algoritmos de predicción.\n",
        "*   Validar y probar los diferentes algoritmos.\n",
        "*   Verificar el nivel de efectividad de los diferentes algoritmos.\n",
        "*   Determinar el algoritmo más efectivo y diseñar la interfaz del modelo.\n",
        "\n",
        "\n"
      ]
    },
    {
      "cell_type": "markdown",
      "metadata": {
        "id": "55LJ0wNT0wUv"
      },
      "source": [
        "# Metodología"
      ]
    },
    {
      "cell_type": "code",
      "metadata": {
        "id": "sC4ldRZGScUX",
        "colab": {
          "base_uri": "https://localhost:8080/"
        },
        "outputId": "431373ba-134e-4019-f0b1-89d5cbca1165"
      },
      "source": [
        "##Se instalan las librerias necesarias\n",
        "!pip install xlrd\n",
        "!pip install psycopg2\n",
        "!pip install psycopg2-binary\n",
        "##!pip install pycaret"
      ],
      "execution_count": null,
      "outputs": [
        {
          "output_type": "stream",
          "text": [
            "Requirement already satisfied: xlrd in /usr/local/lib/python3.7/dist-packages (1.1.0)\n",
            "Requirement already satisfied: psycopg2 in /usr/local/lib/python3.7/dist-packages (2.7.6.1)\n",
            "Collecting psycopg2-binary\n",
            "\u001b[?25l  Downloading https://files.pythonhosted.org/packages/6d/45/c519a5cfac05e14b1ccb242138915855293199840598e087b935ba1d86bc/psycopg2_binary-2.8.6-cp37-cp37m-manylinux1_x86_64.whl (3.0MB)\n",
            "\u001b[K     |████████████████████████████████| 3.0MB 7.9MB/s \n",
            "\u001b[?25hInstalling collected packages: psycopg2-binary\n",
            "Successfully installed psycopg2-binary-2.8.6\n"
          ],
          "name": "stdout"
        }
      ]
    },
    {
      "cell_type": "code",
      "metadata": {
        "id": "urvI8-QCWKHk"
      },
      "source": [
        "##Imports\n",
        "##import pandas as pd\n",
        "##import numpy  as np\n",
        "##import matplotlib.pyplot as plt\n",
        "##import psycopg2 as ps\n",
        "##import io\n",
        "##from statistics import mean \n",
        "##import seaborn as sns\n",
        "##import matplotlib.pyplot as plt\n",
        "##%matplotlib inline\n",
        "##from sklearn.compose import ColumnTransformer\n",
        "##from sklearn.preprocessing import OneHotEncoder\n",
        "##from sklearn.model_selection import train_test_split\n",
        "##from sklearn.model_selection import GridSearchCV\n",
        "##from sklearn.ensemble import RandomForestClassifier\n",
        "##from sklearn.ensemble import RandomForestRegressor\n",
        "##from sklearn.metrics import mean_squared_error\n",
        "##from sklearn import metrics\n",
        "##from pycaret.classification import *\n",
        "##from pandas_profiling import ProfileReport \n",
        "##import plotly.express as px\n",
        "##import plotly.graph_objects as go\n",
        "##from plotly.subplots import make_subplots\n",
        "##import \"psycopg2-binary\" as psb"
      ],
      "execution_count": null,
      "outputs": []
    },
    {
      "cell_type": "code",
      "metadata": {
        "id": "z4lHuX4NeYAw",
        "colab": {
          "resources": {
            "http://localhost:8080/nbextensions/google.colab/files.js": {
              "data": "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",
              "ok": true,
              "headers": [
                [
                  "content-type",
                  "application/javascript"
                ]
              ],
              "status": 200,
              "status_text": ""
            }
          },
          "base_uri": "https://localhost:8080/",
          "height": 73
        },
        "outputId": "3208cd82-c78a-4e68-cbc3-59517f82a097"
      },
      "source": [
        "#Se carga el CSV que contiene los datos a utilizar para el trabajo final integrador\n",
        "from google.colab import files\n",
        "data_to_load = files.upload()"
      ],
      "execution_count": null,
      "outputs": [
        {
          "output_type": "display_data",
          "data": {
            "text/html": [
              "\n",
              "     <input type=\"file\" id=\"files-a3ef32a0-3980-40bd-b8f3-3fb7ed56ae79\" name=\"files[]\" multiple disabled\n",
              "        style=\"border:none\" />\n",
              "     <output id=\"result-a3ef32a0-3980-40bd-b8f3-3fb7ed56ae79\">\n",
              "      Upload widget is only available when the cell has been executed in the\n",
              "      current browser session. Please rerun this cell to enable.\n",
              "      </output>\n",
              "      <script src=\"/nbextensions/google.colab/files.js\"></script> "
            ],
            "text/plain": [
              "<IPython.core.display.HTML object>"
            ]
          },
          "metadata": {
            "tags": []
          }
        },
        {
          "output_type": "stream",
          "text": [
            "Saving Tabla_17Nov.csv to Tabla_17Nov (4).csv\n"
          ],
          "name": "stdout"
        }
      ]
    },
    {
      "cell_type": "code",
      "metadata": {
        "id": "BWXTNA2e22iv",
        "colab": {
          "base_uri": "https://localhost:8080/",
          "height": 635
        },
        "outputId": "661110db-5b81-4e90-e084-35c6801f04cd"
      },
      "source": [
        "#Se asigna el CSV cargado y se imprime el dataset para mostrar un set de datos. \n",
        "import pandas as pd\n",
        "import io\n",
        "dataset = pd.read_csv(io.StringIO(data_to_load['Tabla_17Nov.csv'].decode('utf-8')))\n",
        "dataset"
      ],
      "execution_count": null,
      "outputs": [
        {
          "output_type": "execute_result",
          "data": {
            "text/html": [
              "<div>\n",
              "<style scoped>\n",
              "    .dataframe tbody tr th:only-of-type {\n",
              "        vertical-align: middle;\n",
              "    }\n",
              "\n",
              "    .dataframe tbody tr th {\n",
              "        vertical-align: top;\n",
              "    }\n",
              "\n",
              "    .dataframe thead th {\n",
              "        text-align: right;\n",
              "    }\n",
              "</style>\n",
              "<table border=\"1\" class=\"dataframe\">\n",
              "  <thead>\n",
              "    <tr style=\"text-align: right;\">\n",
              "      <th></th>\n",
              "      <th>COMPANY_KEY</th>\n",
              "      <th>COUNTRY</th>\n",
              "      <th>REGION</th>\n",
              "      <th>ANNUAL_SALES_USD</th>\n",
              "      <th>MARKET_SEGMENT</th>\n",
              "      <th>ONE_VOICE_INDUSTRY</th>\n",
              "      <th>ONE_VOICE_SEGMENT</th>\n",
              "      <th>COMPANY_REVENUE_BAND</th>\n",
              "      <th>MARKET_SEGMENT_BAND</th>\n",
              "      <th>NUMBER_OF_EMPLOYEES</th>\n",
              "      <th>KEY_ACCOUNT_FLAG</th>\n",
              "      <th>EMAILABLE_FLAG</th>\n",
              "      <th>PHONABLE_FLAG</th>\n",
              "      <th>CONTACTABLE_FLAG</th>\n",
              "      <th>VANITY_DEPARTMENT</th>\n",
              "      <th>VANITY_LEVEL</th>\n",
              "      <th>VANITY_SPECIALITY</th>\n",
              "      <th>CHANNEL_NAME</th>\n",
              "      <th>LEAD_NUMBER</th>\n",
              "      <th>RESPONSE_ID</th>\n",
              "      <th>RESPONSE_TYPE_ROLLUP_LEVEL_2</th>\n",
              "      <th>RESPONSE_TYPE_ROLLUP</th>\n",
              "      <th>RESPONSE_TYPE</th>\n",
              "      <th>Market_Segment_Band</th>\n",
              "      <th>Responses_Creating_Leads</th>\n",
              "      <th>Converted_Leads_From_Lead_Creating_Responses</th>\n",
              "    </tr>\n",
              "  </thead>\n",
              "  <tbody>\n",
              "    <tr>\n",
              "      <th>0</th>\n",
              "      <td>58620980099</td>\n",
              "      <td>UNITED STATES</td>\n",
              "      <td>NaN</td>\n",
              "      <td>7.062920e+08</td>\n",
              "      <td>Above Midsize</td>\n",
              "      <td>Mining, Oil and Gas</td>\n",
              "      <td>Support Activities for Mining</td>\n",
              "      <td>500-1B</td>\n",
              "      <td>500-1B</td>\n",
              "      <td>1900.0</td>\n",
              "      <td>NaN</td>\n",
              "      <td>Y</td>\n",
              "      <td>Y</td>\n",
              "      <td>Y</td>\n",
              "      <td>Technology</td>\n",
              "      <td>Professional</td>\n",
              "      <td>Architecture</td>\n",
              "      <td>Others</td>\n",
              "      <td>AJN8B5</td>\n",
              "      <td>48520885.0</td>\n",
              "      <td>Event</td>\n",
              "      <td>Online Events</td>\n",
              "      <td>iSeminar Webshow Attended</td>\n",
              "      <td>500</td>\n",
              "      <td>0</td>\n",
              "      <td>0</td>\n",
              "    </tr>\n",
              "    <tr>\n",
              "      <th>1</th>\n",
              "      <td>91994225099</td>\n",
              "      <td>UNITED STATES</td>\n",
              "      <td>NaN</td>\n",
              "      <td>9.415000e+09</td>\n",
              "      <td>Above Midsize</td>\n",
              "      <td>Mining, Oil and Gas</td>\n",
              "      <td>Support Activities for Mining</td>\n",
              "      <td>2B+</td>\n",
              "      <td>2B+</td>\n",
              "      <td>3177.0</td>\n",
              "      <td>N</td>\n",
              "      <td>Y</td>\n",
              "      <td>Y</td>\n",
              "      <td>Y</td>\n",
              "      <td>Technology</td>\n",
              "      <td>Professional</td>\n",
              "      <td>General Technology</td>\n",
              "      <td>Others</td>\n",
              "      <td>AKWQJT</td>\n",
              "      <td>46379362.0</td>\n",
              "      <td>Form Submit</td>\n",
              "      <td>Oracle Promotions</td>\n",
              "      <td>Oracle Promotions</td>\n",
              "      <td>2000</td>\n",
              "      <td>0</td>\n",
              "      <td>0</td>\n",
              "    </tr>\n",
              "    <tr>\n",
              "      <th>2</th>\n",
              "      <td>45783157499</td>\n",
              "      <td>UNITED STATES</td>\n",
              "      <td>NaN</td>\n",
              "      <td>1.444477e+10</td>\n",
              "      <td>Above Midsize</td>\n",
              "      <td>Mining, Oil and Gas</td>\n",
              "      <td>Support Activities for Mining</td>\n",
              "      <td>2B+</td>\n",
              "      <td>2B+</td>\n",
              "      <td>2800.0</td>\n",
              "      <td>N</td>\n",
              "      <td>Y</td>\n",
              "      <td>Y</td>\n",
              "      <td>Y</td>\n",
              "      <td>Technology</td>\n",
              "      <td>Manager</td>\n",
              "      <td>Database Administration</td>\n",
              "      <td>Others</td>\n",
              "      <td>AFQ4F8</td>\n",
              "      <td>35138029.0</td>\n",
              "      <td>Event</td>\n",
              "      <td>Session</td>\n",
              "      <td>Session Attended</td>\n",
              "      <td>2000</td>\n",
              "      <td>0</td>\n",
              "      <td>0</td>\n",
              "    </tr>\n",
              "    <tr>\n",
              "      <th>3</th>\n",
              "      <td>45783157499</td>\n",
              "      <td>UNITED STATES</td>\n",
              "      <td>NaN</td>\n",
              "      <td>1.444477e+10</td>\n",
              "      <td>Above Midsize</td>\n",
              "      <td>Mining, Oil and Gas</td>\n",
              "      <td>Support Activities for Mining</td>\n",
              "      <td>2B+</td>\n",
              "      <td>2B+</td>\n",
              "      <td>2800.0</td>\n",
              "      <td>N</td>\n",
              "      <td>Y</td>\n",
              "      <td>Y</td>\n",
              "      <td>Y</td>\n",
              "      <td>Technology</td>\n",
              "      <td>Manager</td>\n",
              "      <td>Database Administration</td>\n",
              "      <td>Others</td>\n",
              "      <td>AJZYDC</td>\n",
              "      <td>35138029.0</td>\n",
              "      <td>Event</td>\n",
              "      <td>Session</td>\n",
              "      <td>Session Attended</td>\n",
              "      <td>2000</td>\n",
              "      <td>0</td>\n",
              "      <td>0</td>\n",
              "    </tr>\n",
              "    <tr>\n",
              "      <th>4</th>\n",
              "      <td>45783157499</td>\n",
              "      <td>UNITED STATES</td>\n",
              "      <td>NaN</td>\n",
              "      <td>1.444477e+10</td>\n",
              "      <td>Above Midsize</td>\n",
              "      <td>Mining, Oil and Gas</td>\n",
              "      <td>Support Activities for Mining</td>\n",
              "      <td>2B+</td>\n",
              "      <td>2B+</td>\n",
              "      <td>2800.0</td>\n",
              "      <td>N</td>\n",
              "      <td>Y</td>\n",
              "      <td>Y</td>\n",
              "      <td>Y</td>\n",
              "      <td>Technology</td>\n",
              "      <td>Manager</td>\n",
              "      <td>Database Administration</td>\n",
              "      <td>Others</td>\n",
              "      <td>AKXXWG</td>\n",
              "      <td>35138029.0</td>\n",
              "      <td>Event</td>\n",
              "      <td>Session</td>\n",
              "      <td>Session Attended</td>\n",
              "      <td>2000</td>\n",
              "      <td>0</td>\n",
              "      <td>0</td>\n",
              "    </tr>\n",
              "    <tr>\n",
              "      <th>...</th>\n",
              "      <td>...</td>\n",
              "      <td>...</td>\n",
              "      <td>...</td>\n",
              "      <td>...</td>\n",
              "      <td>...</td>\n",
              "      <td>...</td>\n",
              "      <td>...</td>\n",
              "      <td>...</td>\n",
              "      <td>...</td>\n",
              "      <td>...</td>\n",
              "      <td>...</td>\n",
              "      <td>...</td>\n",
              "      <td>...</td>\n",
              "      <td>...</td>\n",
              "      <td>...</td>\n",
              "      <td>...</td>\n",
              "      <td>...</td>\n",
              "      <td>...</td>\n",
              "      <td>...</td>\n",
              "      <td>...</td>\n",
              "      <td>...</td>\n",
              "      <td>...</td>\n",
              "      <td>...</td>\n",
              "      <td>...</td>\n",
              "      <td>...</td>\n",
              "      <td>...</td>\n",
              "    </tr>\n",
              "    <tr>\n",
              "      <th>21484</th>\n",
              "      <td>80544238499</td>\n",
              "      <td>UNITED STATES</td>\n",
              "      <td>NaN</td>\n",
              "      <td>1.024100e+10</td>\n",
              "      <td>Above Midsize</td>\n",
              "      <td>Mining, Oil and Gas</td>\n",
              "      <td>Support Activities for Mining</td>\n",
              "      <td>2B+</td>\n",
              "      <td>2B+</td>\n",
              "      <td>26662.0</td>\n",
              "      <td>N</td>\n",
              "      <td>Y</td>\n",
              "      <td>Y</td>\n",
              "      <td>Y</td>\n",
              "      <td>Technology</td>\n",
              "      <td>Senior Professional</td>\n",
              "      <td>Systems</td>\n",
              "      <td>NaN</td>\n",
              "      <td>NaN</td>\n",
              "      <td>29785341.0</td>\n",
              "      <td>Form Submit</td>\n",
              "      <td>Whitepaper Downloaded</td>\n",
              "      <td>Whitepaper Downloaded</td>\n",
              "      <td>2000</td>\n",
              "      <td>0</td>\n",
              "      <td>0</td>\n",
              "    </tr>\n",
              "    <tr>\n",
              "      <th>21485</th>\n",
              "      <td>33200299699</td>\n",
              "      <td>NIGERIA</td>\n",
              "      <td>EMEA</td>\n",
              "      <td>2.000000e+07</td>\n",
              "      <td>Lower Midsize</td>\n",
              "      <td>Mining, Oil and Gas</td>\n",
              "      <td>Support Activities for Mining</td>\n",
              "      <td>10-50M</td>\n",
              "      <td>10-50M</td>\n",
              "      <td>31.0</td>\n",
              "      <td>NaN</td>\n",
              "      <td>Y</td>\n",
              "      <td>Y</td>\n",
              "      <td>Y</td>\n",
              "      <td>NaN</td>\n",
              "      <td>Blank Title</td>\n",
              "      <td>NaN</td>\n",
              "      <td>NaN</td>\n",
              "      <td>NaN</td>\n",
              "      <td>30246191.0</td>\n",
              "      <td>Event</td>\n",
              "      <td>Attendees</td>\n",
              "      <td>Event Attended</td>\n",
              "      <td>10</td>\n",
              "      <td>0</td>\n",
              "      <td>0</td>\n",
              "    </tr>\n",
              "    <tr>\n",
              "      <th>21486</th>\n",
              "      <td>80544238499</td>\n",
              "      <td>UNITED STATES</td>\n",
              "      <td>NaN</td>\n",
              "      <td>1.024100e+10</td>\n",
              "      <td>Above Midsize</td>\n",
              "      <td>Mining, Oil and Gas</td>\n",
              "      <td>Support Activities for Mining</td>\n",
              "      <td>2B+</td>\n",
              "      <td>2B+</td>\n",
              "      <td>26662.0</td>\n",
              "      <td>N</td>\n",
              "      <td>Y</td>\n",
              "      <td>Y</td>\n",
              "      <td>Y</td>\n",
              "      <td>NaN</td>\n",
              "      <td>Blank Title</td>\n",
              "      <td>NaN</td>\n",
              "      <td>NaN</td>\n",
              "      <td>NaN</td>\n",
              "      <td>29769354.0</td>\n",
              "      <td>Form Submit</td>\n",
              "      <td>Whitepaper Downloaded</td>\n",
              "      <td>Whitepaper Downloaded</td>\n",
              "      <td>2000</td>\n",
              "      <td>0</td>\n",
              "      <td>0</td>\n",
              "    </tr>\n",
              "    <tr>\n",
              "      <th>21487</th>\n",
              "      <td>50944087399</td>\n",
              "      <td>EGYPT</td>\n",
              "      <td>EMEA</td>\n",
              "      <td>2.300000e+10</td>\n",
              "      <td>Above Midsize</td>\n",
              "      <td>Mining, Oil and Gas</td>\n",
              "      <td>Oil and Gas Extraction</td>\n",
              "      <td>2B+</td>\n",
              "      <td>2B+</td>\n",
              "      <td>35000.0</td>\n",
              "      <td>NaN</td>\n",
              "      <td>Y</td>\n",
              "      <td>Y</td>\n",
              "      <td>Y</td>\n",
              "      <td>Technology</td>\n",
              "      <td>Senior Professional</td>\n",
              "      <td>General Technology</td>\n",
              "      <td>NaN</td>\n",
              "      <td>NaN</td>\n",
              "      <td>35072004.0</td>\n",
              "      <td>Event</td>\n",
              "      <td>Registered</td>\n",
              "      <td>Event Registered</td>\n",
              "      <td>2000</td>\n",
              "      <td>0</td>\n",
              "      <td>0</td>\n",
              "    </tr>\n",
              "    <tr>\n",
              "      <th>21488</th>\n",
              "      <td>54971480699</td>\n",
              "      <td>BRAZIL</td>\n",
              "      <td>LAD</td>\n",
              "      <td>4.500000e+10</td>\n",
              "      <td>Above Midsize</td>\n",
              "      <td>Mining, Oil and Gas</td>\n",
              "      <td>Oil and Gas Extraction</td>\n",
              "      <td>2B+</td>\n",
              "      <td>2B+</td>\n",
              "      <td>68829.0</td>\n",
              "      <td>N</td>\n",
              "      <td>Y</td>\n",
              "      <td>Y</td>\n",
              "      <td>Y</td>\n",
              "      <td>Technology</td>\n",
              "      <td>Professional</td>\n",
              "      <td>Analyst</td>\n",
              "      <td>NaN</td>\n",
              "      <td>NaN</td>\n",
              "      <td>56975904.0</td>\n",
              "      <td>Event</td>\n",
              "      <td>Tradeshow Attendees</td>\n",
              "      <td>Event Tradeshow Engaged</td>\n",
              "      <td>2000</td>\n",
              "      <td>0</td>\n",
              "      <td>0</td>\n",
              "    </tr>\n",
              "  </tbody>\n",
              "</table>\n",
              "<p>21489 rows × 26 columns</p>\n",
              "</div>"
            ],
            "text/plain": [
              "       COMPANY_KEY  ... Converted_Leads_From_Lead_Creating_Responses\n",
              "0      58620980099  ...                                            0\n",
              "1      91994225099  ...                                            0\n",
              "2      45783157499  ...                                            0\n",
              "3      45783157499  ...                                            0\n",
              "4      45783157499  ...                                            0\n",
              "...            ...  ...                                          ...\n",
              "21484  80544238499  ...                                            0\n",
              "21485  33200299699  ...                                            0\n",
              "21486  80544238499  ...                                            0\n",
              "21487  50944087399  ...                                            0\n",
              "21488  54971480699  ...                                            0\n",
              "\n",
              "[21489 rows x 26 columns]"
            ]
          },
          "metadata": {
            "tags": []
          },
          "execution_count": 43
        }
      ]
    },
    {
      "cell_type": "code",
      "metadata": {
        "colab": {
          "base_uri": "https://localhost:8080/",
          "height": 288
        },
        "id": "1dkThBfImjt1",
        "outputId": "5e230fce-ab81-41c2-d2bf-f487191b025d"
      },
      "source": [
        "#Se hace un describe del dataset de las variables númericas\n",
        "dataset.describe()"
      ],
      "execution_count": null,
      "outputs": [
        {
          "output_type": "execute_result",
          "data": {
            "text/html": [
              "<div>\n",
              "<style scoped>\n",
              "    .dataframe tbody tr th:only-of-type {\n",
              "        vertical-align: middle;\n",
              "    }\n",
              "\n",
              "    .dataframe tbody tr th {\n",
              "        vertical-align: top;\n",
              "    }\n",
              "\n",
              "    .dataframe thead th {\n",
              "        text-align: right;\n",
              "    }\n",
              "</style>\n",
              "<table border=\"1\" class=\"dataframe\">\n",
              "  <thead>\n",
              "    <tr style=\"text-align: right;\">\n",
              "      <th></th>\n",
              "      <th>COMPANY_KEY</th>\n",
              "      <th>ANNUAL_SALES_USD</th>\n",
              "      <th>NUMBER_OF_EMPLOYEES</th>\n",
              "      <th>RESPONSE_ID</th>\n",
              "      <th>Market_Segment_Band</th>\n",
              "      <th>Responses_Creating_Leads</th>\n",
              "      <th>Converted_Leads_From_Lead_Creating_Responses</th>\n",
              "    </tr>\n",
              "  </thead>\n",
              "  <tbody>\n",
              "    <tr>\n",
              "      <th>count</th>\n",
              "      <td>2.148900e+04</td>\n",
              "      <td>2.134600e+04</td>\n",
              "      <td>21477.000000</td>\n",
              "      <td>2.148600e+04</td>\n",
              "      <td>2.148900e+04</td>\n",
              "      <td>21489.000000</td>\n",
              "      <td>21489.000000</td>\n",
              "    </tr>\n",
              "    <tr>\n",
              "      <th>mean</th>\n",
              "      <td>5.270362e+10</td>\n",
              "      <td>1.379344e+10</td>\n",
              "      <td>12644.788285</td>\n",
              "      <td>5.952331e+08</td>\n",
              "      <td>5.723412e+04</td>\n",
              "      <td>0.288147</td>\n",
              "      <td>0.006422</td>\n",
              "    </tr>\n",
              "    <tr>\n",
              "      <th>std</th>\n",
              "      <td>2.559657e+10</td>\n",
              "      <td>4.911925e+10</td>\n",
              "      <td>28465.527613</td>\n",
              "      <td>2.363623e+10</td>\n",
              "      <td>2.362465e+06</td>\n",
              "      <td>0.452911</td>\n",
              "      <td>0.079881</td>\n",
              "    </tr>\n",
              "    <tr>\n",
              "      <th>min</th>\n",
              "      <td>2.265814e+08</td>\n",
              "      <td>1.300000e+06</td>\n",
              "      <td>2.000000</td>\n",
              "      <td>-1.000000e+00</td>\n",
              "      <td>0.000000e+00</td>\n",
              "      <td>0.000000</td>\n",
              "      <td>0.000000</td>\n",
              "    </tr>\n",
              "    <tr>\n",
              "      <th>25%</th>\n",
              "      <td>3.393799e+10</td>\n",
              "      <td>7.062920e+08</td>\n",
              "      <td>1000.000000</td>\n",
              "      <td>2.693394e+07</td>\n",
              "      <td>5.000000e+02</td>\n",
              "      <td>0.000000</td>\n",
              "      <td>0.000000</td>\n",
              "    </tr>\n",
              "    <tr>\n",
              "      <th>50%</th>\n",
              "      <td>5.497148e+10</td>\n",
              "      <td>3.362000e+09</td>\n",
              "      <td>2964.000000</td>\n",
              "      <td>3.373934e+07</td>\n",
              "      <td>2.000000e+03</td>\n",
              "      <td>0.000000</td>\n",
              "      <td>0.000000</td>\n",
              "    </tr>\n",
              "    <tr>\n",
              "      <th>75%</th>\n",
              "      <td>6.997337e+10</td>\n",
              "      <td>7.948800e+09</td>\n",
              "      <td>8714.000000</td>\n",
              "      <td>4.695552e+07</td>\n",
              "      <td>2.000000e+03</td>\n",
              "      <td>1.000000</td>\n",
              "      <td>0.000000</td>\n",
              "    </tr>\n",
              "    <tr>\n",
              "      <th>max</th>\n",
              "      <td>9.985532e+10</td>\n",
              "      <td>3.884000e+11</td>\n",
              "      <td>302100.000000</td>\n",
              "      <td>1.000445e+12</td>\n",
              "      <td>1.000000e+08</td>\n",
              "      <td>1.000000</td>\n",
              "      <td>1.000000</td>\n",
              "    </tr>\n",
              "  </tbody>\n",
              "</table>\n",
              "</div>"
            ],
            "text/plain": [
              "        COMPANY_KEY  ...  Converted_Leads_From_Lead_Creating_Responses\n",
              "count  2.148900e+04  ...                                  21489.000000\n",
              "mean   5.270362e+10  ...                                      0.006422\n",
              "std    2.559657e+10  ...                                      0.079881\n",
              "min    2.265814e+08  ...                                      0.000000\n",
              "25%    3.393799e+10  ...                                      0.000000\n",
              "50%    5.497148e+10  ...                                      0.000000\n",
              "75%    6.997337e+10  ...                                      0.000000\n",
              "max    9.985532e+10  ...                                      1.000000\n",
              "\n",
              "[8 rows x 7 columns]"
            ]
          },
          "metadata": {
            "tags": []
          },
          "execution_count": 4
        }
      ]
    },
    {
      "cell_type": "code",
      "metadata": {
        "id": "Dn4s6fYMdU6e"
      },
      "source": [
        "#Se reemplaza uno de los canales de comunicación de las campañas. \n",
        "dataset['CHANNEL_NAME'] = dataset['CHANNEL_NAME'].replace(['Oracle websites - Tracked'],['Company websites - Tracked'])"
      ],
      "execution_count": null,
      "outputs": []
    },
    {
      "cell_type": "code",
      "metadata": {
        "colab": {
          "base_uri": "https://localhost:8080/"
        },
        "id": "AFMrQXGEo7W9",
        "outputId": "fb3fd4f9-f86e-414d-f730-4dba3a40016f"
      },
      "source": [
        "#Se muestran los distintos valores que contiene la variable \"CHANNEL_NAME\"\n",
        "dataset.CHANNEL_NAME.unique()"
      ],
      "execution_count": null,
      "outputs": [
        {
          "output_type": "execute_result",
          "data": {
            "text/plain": [
              "array(['Others', 'Company websites - Tracked', 'Email Tracked',\n",
              "       'External websites - Tracked', 'Social Natural', 'Sales eVite',\n",
              "       nan], dtype=object)"
            ]
          },
          "metadata": {
            "tags": []
          },
          "execution_count": 45
        }
      ]
    },
    {
      "cell_type": "code",
      "metadata": {
        "id": "l91Q7J_61Ef2"
      },
      "source": [
        "#Se eliminan aquellas variables que se creen no servir para el modelo predictivo\n",
        "del dataset['LEAD_NUMBER']\n",
        "del dataset['RESPONSE_TYPE_ROLLUP_LEVEL_2']\n",
        "del dataset['RESPONSE_TYPE_ROLLUP']\n",
        "del dataset['MARKET_SEGMENT_BAND']\n",
        "del dataset['COMPANY_REVENUE_BAND']\n",
        "del dataset['RESPONSE_ID']\n",
        "del dataset['VANITY_SPECIALITY']"
      ],
      "execution_count": null,
      "outputs": []
    },
    {
      "cell_type": "code",
      "metadata": {
        "id": "oH-U8gY87kDR",
        "colab": {
          "base_uri": "https://localhost:8080/"
        },
        "outputId": "40a4fe7e-272f-4544-bca8-c46b10a13b5c"
      },
      "source": [
        "#Se chequea la cantidad de valores NULL en cada una de las variables\n",
        "dataset.isnull().sum()"
      ],
      "execution_count": null,
      "outputs": [
        {
          "output_type": "execute_result",
          "data": {
            "text/plain": [
              "COMPANY_KEY                                         0\n",
              "COUNTRY                                             0\n",
              "REGION                                          14171\n",
              "ANNUAL_SALES_USD                                  143\n",
              "MARKET_SEGMENT                                      0\n",
              "ONE_VOICE_INDUSTRY                                  0\n",
              "ONE_VOICE_SEGMENT                                   0\n",
              "NUMBER_OF_EMPLOYEES                                12\n",
              "KEY_ACCOUNT_FLAG                                13567\n",
              "EMAILABLE_FLAG                                      0\n",
              "PHONABLE_FLAG                                       0\n",
              "CONTACTABLE_FLAG                                    0\n",
              "VANITY_DEPARTMENT                                2474\n",
              "VANITY_LEVEL                                        0\n",
              "CHANNEL_NAME                                     5633\n",
              "RESPONSE_TYPE                                       0\n",
              "Market_Segment_Band                                 0\n",
              "Responses_Creating_Leads                            0\n",
              "Converted_Leads_From_Lead_Creating_Responses        0\n",
              "dtype: int64"
            ]
          },
          "metadata": {
            "tags": []
          },
          "execution_count": 47
        }
      ]
    },
    {
      "cell_type": "code",
      "metadata": {
        "id": "jRdkXJ5L5dpK"
      },
      "source": [
        "#Reemplazo de valores NULL a \"Unspecified\"\n",
        "dataset[\"VANITY_DEPARTMENT\"].fillna(\"Unspecified\", inplace = True)\n",
        "dataset[\"CHANNEL_NAME\"].fillna(\"Unspecified\", inplace = True)\n",
        "#Para la variables \"ANNUAL_SALES_USD\" se calcula la media y se asigna ese valor para aquellos registros que tienen valores NULL\n",
        "dataset[\"ANNUAL_SALES_USD\"] = dataset[\"ANNUAL_SALES_USD\"].fillna(dataset[\"ANNUAL_SALES_USD\"].mean())\n",
        "#En el caso del campo KEY_ACCOUNT_FLAG, para aquellos registros en que el valor es NULL se determina que se reemplaza con el flag 'N' \n",
        "#ya que siempre que es un KEY ACCOUNT el valor se completa como Y\n",
        "dataset[\"KEY_ACCOUNT_FLAG\"].fillna('N', inplace = True)\n",
        "#Se calcula para la variable \"NUMBER_OF_EMPLOYEES\" cual es el valor mínimo de los valores que contiene para poder reemplazar\n",
        "#aquellos valores NULL por este valor minimo. \n",
        "dataset[\"NUMBER_OF_EMPLOYEES\"].fillna(dataset[\"NUMBER_OF_EMPLOYEES\"].min(), inplace = True)\n",
        "#Para la variable \"REGION\" donde los paises son UNITED STATES o CANADA se asigna como región NA\n",
        "dataset.loc[dataset['COUNTRY'] == 'UNITED STATES', 'REGION'] = 'NA'\n",
        "dataset.loc[dataset['COUNTRY'] == 'CANADA', 'REGION'] = 'NA'\n",
        "#Elimino el campo COUNTRY\n",
        "del dataset['COUNTRY']"
      ],
      "execution_count": null,
      "outputs": []
    },
    {
      "cell_type": "code",
      "metadata": {
        "id": "jsPZ_zgV8Un9",
        "colab": {
          "base_uri": "https://localhost:8080/"
        },
        "outputId": "c0ecfeaf-e8f4-4ee5-91e2-0acafac9eb87"
      },
      "source": [
        "#Se rechequea la cantidad de valores NULL en cada una de las variables\n",
        "dataset.isnull().sum()"
      ],
      "execution_count": null,
      "outputs": [
        {
          "output_type": "execute_result",
          "data": {
            "text/plain": [
              "COMPANY_KEY                                     0\n",
              "REGION                                          0\n",
              "ANNUAL_SALES_USD                                0\n",
              "MARKET_SEGMENT                                  0\n",
              "ONE_VOICE_INDUSTRY                              0\n",
              "ONE_VOICE_SEGMENT                               0\n",
              "NUMBER_OF_EMPLOYEES                             0\n",
              "KEY_ACCOUNT_FLAG                                0\n",
              "EMAILABLE_FLAG                                  0\n",
              "PHONABLE_FLAG                                   0\n",
              "CONTACTABLE_FLAG                                0\n",
              "VANITY_DEPARTMENT                               0\n",
              "VANITY_LEVEL                                    0\n",
              "CHANNEL_NAME                                    0\n",
              "RESPONSE_TYPE                                   0\n",
              "Market_Segment_Band                             0\n",
              "Responses_Creating_Leads                        0\n",
              "Converted_Leads_From_Lead_Creating_Responses    0\n",
              "dtype: int64"
            ]
          },
          "metadata": {
            "tags": []
          },
          "execution_count": 51
        }
      ]
    },
    {
      "cell_type": "code",
      "metadata": {
        "id": "Jib56kkJXCtX",
        "colab": {
          "base_uri": "https://localhost:8080/",
          "height": 635
        },
        "outputId": "01a0fe5f-892e-40e3-eee9-fd239fda9b5e"
      },
      "source": [
        "#Se genera el encoding de aquellas variables que son flags cambiando los valores Y por 1 y los N por 0\n",
        "dataset['KEY_ACCOUNT_FLAG'] = dataset['KEY_ACCOUNT_FLAG'].replace(['Y','N'],[1,0])\n",
        "dataset['EMAILABLE_FLAG'] = dataset['EMAILABLE_FLAG'].replace(['Y','N'],[1,0])\n",
        "dataset['PHONABLE_FLAG'] = dataset['PHONABLE_FLAG'].replace(['Y','N'],[1,0])\n",
        "dataset['CONTACTABLE_FLAG'] = dataset['CONTACTABLE_FLAG'].replace(['Y','N'],[1,0])\n",
        "#Se modifica el valor de las variables \"VANITY_DEPARTMENT\" y \"MARKET_SEGMENT\" donde es \"Unknown\" a \"Unspecified\"\n",
        "dataset['VANITY_DEPARTMENT'] = dataset['VANITY_DEPARTMENT'].replace(['Unknown'],['Unspecified'])\n",
        "dataset['MARKET_SEGMENT'] = dataset['MARKET_SEGMENT'].replace(['Unknown'],['Unspecified'])\n",
        "\n",
        "dataset"
      ],
      "execution_count": null,
      "outputs": [
        {
          "output_type": "execute_result",
          "data": {
            "text/html": [
              "<div>\n",
              "<style scoped>\n",
              "    .dataframe tbody tr th:only-of-type {\n",
              "        vertical-align: middle;\n",
              "    }\n",
              "\n",
              "    .dataframe tbody tr th {\n",
              "        vertical-align: top;\n",
              "    }\n",
              "\n",
              "    .dataframe thead th {\n",
              "        text-align: right;\n",
              "    }\n",
              "</style>\n",
              "<table border=\"1\" class=\"dataframe\">\n",
              "  <thead>\n",
              "    <tr style=\"text-align: right;\">\n",
              "      <th></th>\n",
              "      <th>COMPANY_KEY</th>\n",
              "      <th>REGION</th>\n",
              "      <th>ANNUAL_SALES_USD</th>\n",
              "      <th>MARKET_SEGMENT</th>\n",
              "      <th>ONE_VOICE_INDUSTRY</th>\n",
              "      <th>ONE_VOICE_SEGMENT</th>\n",
              "      <th>NUMBER_OF_EMPLOYEES</th>\n",
              "      <th>KEY_ACCOUNT_FLAG</th>\n",
              "      <th>EMAILABLE_FLAG</th>\n",
              "      <th>PHONABLE_FLAG</th>\n",
              "      <th>CONTACTABLE_FLAG</th>\n",
              "      <th>VANITY_DEPARTMENT</th>\n",
              "      <th>VANITY_LEVEL</th>\n",
              "      <th>CHANNEL_NAME</th>\n",
              "      <th>RESPONSE_TYPE</th>\n",
              "      <th>Market_Segment_Band</th>\n",
              "      <th>Responses_Creating_Leads</th>\n",
              "      <th>Converted_Leads_From_Lead_Creating_Responses</th>\n",
              "    </tr>\n",
              "  </thead>\n",
              "  <tbody>\n",
              "    <tr>\n",
              "      <th>0</th>\n",
              "      <td>58620980099</td>\n",
              "      <td>NA</td>\n",
              "      <td>7.062920e+08</td>\n",
              "      <td>Above Midsize</td>\n",
              "      <td>Mining, Oil and Gas</td>\n",
              "      <td>Support Activities for Mining</td>\n",
              "      <td>1900.0</td>\n",
              "      <td>0</td>\n",
              "      <td>1</td>\n",
              "      <td>1</td>\n",
              "      <td>1</td>\n",
              "      <td>Technology</td>\n",
              "      <td>Professional</td>\n",
              "      <td>Others</td>\n",
              "      <td>iSeminar Webshow Attended</td>\n",
              "      <td>500</td>\n",
              "      <td>0</td>\n",
              "      <td>0</td>\n",
              "    </tr>\n",
              "    <tr>\n",
              "      <th>1</th>\n",
              "      <td>91994225099</td>\n",
              "      <td>NA</td>\n",
              "      <td>9.415000e+09</td>\n",
              "      <td>Above Midsize</td>\n",
              "      <td>Mining, Oil and Gas</td>\n",
              "      <td>Support Activities for Mining</td>\n",
              "      <td>3177.0</td>\n",
              "      <td>0</td>\n",
              "      <td>1</td>\n",
              "      <td>1</td>\n",
              "      <td>1</td>\n",
              "      <td>Technology</td>\n",
              "      <td>Professional</td>\n",
              "      <td>Others</td>\n",
              "      <td>Oracle Promotions</td>\n",
              "      <td>2000</td>\n",
              "      <td>0</td>\n",
              "      <td>0</td>\n",
              "    </tr>\n",
              "    <tr>\n",
              "      <th>2</th>\n",
              "      <td>45783157499</td>\n",
              "      <td>NA</td>\n",
              "      <td>1.444477e+10</td>\n",
              "      <td>Above Midsize</td>\n",
              "      <td>Mining, Oil and Gas</td>\n",
              "      <td>Support Activities for Mining</td>\n",
              "      <td>2800.0</td>\n",
              "      <td>0</td>\n",
              "      <td>1</td>\n",
              "      <td>1</td>\n",
              "      <td>1</td>\n",
              "      <td>Technology</td>\n",
              "      <td>Manager</td>\n",
              "      <td>Others</td>\n",
              "      <td>Session Attended</td>\n",
              "      <td>2000</td>\n",
              "      <td>0</td>\n",
              "      <td>0</td>\n",
              "    </tr>\n",
              "    <tr>\n",
              "      <th>3</th>\n",
              "      <td>45783157499</td>\n",
              "      <td>NA</td>\n",
              "      <td>1.444477e+10</td>\n",
              "      <td>Above Midsize</td>\n",
              "      <td>Mining, Oil and Gas</td>\n",
              "      <td>Support Activities for Mining</td>\n",
              "      <td>2800.0</td>\n",
              "      <td>0</td>\n",
              "      <td>1</td>\n",
              "      <td>1</td>\n",
              "      <td>1</td>\n",
              "      <td>Technology</td>\n",
              "      <td>Manager</td>\n",
              "      <td>Others</td>\n",
              "      <td>Session Attended</td>\n",
              "      <td>2000</td>\n",
              "      <td>0</td>\n",
              "      <td>0</td>\n",
              "    </tr>\n",
              "    <tr>\n",
              "      <th>4</th>\n",
              "      <td>45783157499</td>\n",
              "      <td>NA</td>\n",
              "      <td>1.444477e+10</td>\n",
              "      <td>Above Midsize</td>\n",
              "      <td>Mining, Oil and Gas</td>\n",
              "      <td>Support Activities for Mining</td>\n",
              "      <td>2800.0</td>\n",
              "      <td>0</td>\n",
              "      <td>1</td>\n",
              "      <td>1</td>\n",
              "      <td>1</td>\n",
              "      <td>Technology</td>\n",
              "      <td>Manager</td>\n",
              "      <td>Others</td>\n",
              "      <td>Session Attended</td>\n",
              "      <td>2000</td>\n",
              "      <td>0</td>\n",
              "      <td>0</td>\n",
              "    </tr>\n",
              "    <tr>\n",
              "      <th>...</th>\n",
              "      <td>...</td>\n",
              "      <td>...</td>\n",
              "      <td>...</td>\n",
              "      <td>...</td>\n",
              "      <td>...</td>\n",
              "      <td>...</td>\n",
              "      <td>...</td>\n",
              "      <td>...</td>\n",
              "      <td>...</td>\n",
              "      <td>...</td>\n",
              "      <td>...</td>\n",
              "      <td>...</td>\n",
              "      <td>...</td>\n",
              "      <td>...</td>\n",
              "      <td>...</td>\n",
              "      <td>...</td>\n",
              "      <td>...</td>\n",
              "      <td>...</td>\n",
              "    </tr>\n",
              "    <tr>\n",
              "      <th>21484</th>\n",
              "      <td>80544238499</td>\n",
              "      <td>NA</td>\n",
              "      <td>1.024100e+10</td>\n",
              "      <td>Above Midsize</td>\n",
              "      <td>Mining, Oil and Gas</td>\n",
              "      <td>Support Activities for Mining</td>\n",
              "      <td>26662.0</td>\n",
              "      <td>0</td>\n",
              "      <td>1</td>\n",
              "      <td>1</td>\n",
              "      <td>1</td>\n",
              "      <td>Technology</td>\n",
              "      <td>Senior Professional</td>\n",
              "      <td>Unspecified</td>\n",
              "      <td>Whitepaper Downloaded</td>\n",
              "      <td>2000</td>\n",
              "      <td>0</td>\n",
              "      <td>0</td>\n",
              "    </tr>\n",
              "    <tr>\n",
              "      <th>21485</th>\n",
              "      <td>33200299699</td>\n",
              "      <td>EMEA</td>\n",
              "      <td>2.000000e+07</td>\n",
              "      <td>Lower Midsize</td>\n",
              "      <td>Mining, Oil and Gas</td>\n",
              "      <td>Support Activities for Mining</td>\n",
              "      <td>31.0</td>\n",
              "      <td>0</td>\n",
              "      <td>1</td>\n",
              "      <td>1</td>\n",
              "      <td>1</td>\n",
              "      <td>Unspecified</td>\n",
              "      <td>Blank Title</td>\n",
              "      <td>Unspecified</td>\n",
              "      <td>Event Attended</td>\n",
              "      <td>10</td>\n",
              "      <td>0</td>\n",
              "      <td>0</td>\n",
              "    </tr>\n",
              "    <tr>\n",
              "      <th>21486</th>\n",
              "      <td>80544238499</td>\n",
              "      <td>NA</td>\n",
              "      <td>1.024100e+10</td>\n",
              "      <td>Above Midsize</td>\n",
              "      <td>Mining, Oil and Gas</td>\n",
              "      <td>Support Activities for Mining</td>\n",
              "      <td>26662.0</td>\n",
              "      <td>0</td>\n",
              "      <td>1</td>\n",
              "      <td>1</td>\n",
              "      <td>1</td>\n",
              "      <td>Unspecified</td>\n",
              "      <td>Blank Title</td>\n",
              "      <td>Unspecified</td>\n",
              "      <td>Whitepaper Downloaded</td>\n",
              "      <td>2000</td>\n",
              "      <td>0</td>\n",
              "      <td>0</td>\n",
              "    </tr>\n",
              "    <tr>\n",
              "      <th>21487</th>\n",
              "      <td>50944087399</td>\n",
              "      <td>EMEA</td>\n",
              "      <td>2.300000e+10</td>\n",
              "      <td>Above Midsize</td>\n",
              "      <td>Mining, Oil and Gas</td>\n",
              "      <td>Oil and Gas Extraction</td>\n",
              "      <td>35000.0</td>\n",
              "      <td>0</td>\n",
              "      <td>1</td>\n",
              "      <td>1</td>\n",
              "      <td>1</td>\n",
              "      <td>Technology</td>\n",
              "      <td>Senior Professional</td>\n",
              "      <td>Unspecified</td>\n",
              "      <td>Event Registered</td>\n",
              "      <td>2000</td>\n",
              "      <td>0</td>\n",
              "      <td>0</td>\n",
              "    </tr>\n",
              "    <tr>\n",
              "      <th>21488</th>\n",
              "      <td>54971480699</td>\n",
              "      <td>LAD</td>\n",
              "      <td>4.500000e+10</td>\n",
              "      <td>Above Midsize</td>\n",
              "      <td>Mining, Oil and Gas</td>\n",
              "      <td>Oil and Gas Extraction</td>\n",
              "      <td>68829.0</td>\n",
              "      <td>0</td>\n",
              "      <td>1</td>\n",
              "      <td>1</td>\n",
              "      <td>1</td>\n",
              "      <td>Technology</td>\n",
              "      <td>Professional</td>\n",
              "      <td>Unspecified</td>\n",
              "      <td>Event Tradeshow Engaged</td>\n",
              "      <td>2000</td>\n",
              "      <td>0</td>\n",
              "      <td>0</td>\n",
              "    </tr>\n",
              "  </tbody>\n",
              "</table>\n",
              "<p>21489 rows × 18 columns</p>\n",
              "</div>"
            ],
            "text/plain": [
              "       COMPANY_KEY  ... Converted_Leads_From_Lead_Creating_Responses\n",
              "0      58620980099  ...                                            0\n",
              "1      91994225099  ...                                            0\n",
              "2      45783157499  ...                                            0\n",
              "3      45783157499  ...                                            0\n",
              "4      45783157499  ...                                            0\n",
              "...            ...  ...                                          ...\n",
              "21484  80544238499  ...                                            0\n",
              "21485  33200299699  ...                                            0\n",
              "21486  80544238499  ...                                            0\n",
              "21487  50944087399  ...                                            0\n",
              "21488  54971480699  ...                                            0\n",
              "\n",
              "[21489 rows x 18 columns]"
            ]
          },
          "metadata": {
            "tags": []
          },
          "execution_count": 53
        }
      ]
    },
    {
      "cell_type": "code",
      "metadata": {
        "colab": {
          "base_uri": "https://localhost:8080/"
        },
        "id": "IimWyoDlUIIU",
        "outputId": "a085c22d-9c9b-4bb4-a03c-becfcf018723"
      },
      "source": [
        "#Se chequea la métrica \"RESPONSES CREATING LEADS\". \n",
        "#cuantas ocurrencias de cada valor tiene el dataset para \"RESPONSES CREATING LEADS\":\n",
        "dataset['Responses_Creating_Leads'].value_counts()"
      ],
      "execution_count": null,
      "outputs": [
        {
          "output_type": "execute_result",
          "data": {
            "text/plain": [
              "0    15297\n",
              "1     6192\n",
              "Name: Responses_Creating_Leads, dtype: int64"
            ]
          },
          "metadata": {
            "tags": []
          },
          "execution_count": 54
        }
      ]
    },
    {
      "cell_type": "code",
      "metadata": {
        "colab": {
          "base_uri": "https://localhost:8080/"
        },
        "id": "Czi3H1U8UO04",
        "outputId": "e36dc2b6-e918-4f2d-98b2-d112b2a296a5"
      },
      "source": [
        "#En % cuantas ocurrencias de cada valor:\n",
        "dataset['Responses_Creating_Leads'].value_counts(normalize=True)"
      ],
      "execution_count": null,
      "outputs": [
        {
          "output_type": "execute_result",
          "data": {
            "text/plain": [
              "0    0.711853\n",
              "1    0.288147\n",
              "Name: Responses_Creating_Leads, dtype: float64"
            ]
          },
          "metadata": {
            "tags": []
          },
          "execution_count": 55
        }
      ]
    },
    {
      "cell_type": "code",
      "metadata": {
        "id": "IsR0u1QVUUBd",
        "colab": {
          "base_uri": "https://localhost:8080/",
          "height": 269
        },
        "outputId": "0cf6dfa8-b9e4-4330-a282-812b5bbb1443"
      },
      "source": [
        "#Gráfico que muestra la cantidad de valores para la métrica \"Responses Creating Leads\"\n",
        "import matplotlib.pyplot as plt\n",
        "x = ['0', '1']\n",
        "y = dataset['Responses_Creating_Leads'].value_counts()\n",
        "plt.bar(x, y)\n",
        "plt.show()"
      ],
      "execution_count": null,
      "outputs": [
        {
          "output_type": "display_data",
          "data": {
            "image/png": "[encoded data removed]",
            "text/plain": [
              "<Figure size 432x288 with 1 Axes>"
            ]
          },
          "metadata": {
            "tags": [],
            "needs_background": "light"
          }
        }
      ]
    },
    {
      "cell_type": "code",
      "metadata": {
        "colab": {
          "base_uri": "https://localhost:8080/",
          "height": 258
        },
        "id": "pfT0huAYgdKL",
        "outputId": "ca00f69e-7a59-4449-9389-29ac3ed9f626"
      },
      "source": [
        "#Se agrupa por la variable \"CHANNEL_NAME\", mostrando en % la métrica \"Responses_Creating_Leads\" \n",
        "channels_grouped = dataset.groupby([\"CHANNEL_NAME\"])\n",
        "channels_grouped = channels_grouped[[\"Responses_Creating_Leads\"]].count().add_prefix(\"Avg_of_\")\n",
        "channels_grouped.apply(lambda x: x/x.sum()).reset_index()"
      ],
      "execution_count": null,
      "outputs": [
        {
          "output_type": "execute_result",
          "data": {
            "text/html": [
              "<div>\n",
              "<style scoped>\n",
              "    .dataframe tbody tr th:only-of-type {\n",
              "        vertical-align: middle;\n",
              "    }\n",
              "\n",
              "    .dataframe tbody tr th {\n",
              "        vertical-align: top;\n",
              "    }\n",
              "\n",
              "    .dataframe thead th {\n",
              "        text-align: right;\n",
              "    }\n",
              "</style>\n",
              "<table border=\"1\" class=\"dataframe\">\n",
              "  <thead>\n",
              "    <tr style=\"text-align: right;\">\n",
              "      <th></th>\n",
              "      <th>CHANNEL_NAME</th>\n",
              "      <th>Avg_of_Responses_Creating_Leads</th>\n",
              "    </tr>\n",
              "  </thead>\n",
              "  <tbody>\n",
              "    <tr>\n",
              "      <th>0</th>\n",
              "      <td>Company websites - Tracked</td>\n",
              "      <td>0.052539</td>\n",
              "    </tr>\n",
              "    <tr>\n",
              "      <th>1</th>\n",
              "      <td>Email Tracked</td>\n",
              "      <td>0.157848</td>\n",
              "    </tr>\n",
              "    <tr>\n",
              "      <th>2</th>\n",
              "      <td>External websites - Tracked</td>\n",
              "      <td>0.006003</td>\n",
              "    </tr>\n",
              "    <tr>\n",
              "      <th>3</th>\n",
              "      <td>Others</td>\n",
              "      <td>0.484806</td>\n",
              "    </tr>\n",
              "    <tr>\n",
              "      <th>4</th>\n",
              "      <td>Sales eVite</td>\n",
              "      <td>0.029690</td>\n",
              "    </tr>\n",
              "    <tr>\n",
              "      <th>5</th>\n",
              "      <td>Social Natural</td>\n",
              "      <td>0.006980</td>\n",
              "    </tr>\n",
              "    <tr>\n",
              "      <th>6</th>\n",
              "      <td>Unspecified</td>\n",
              "      <td>0.262134</td>\n",
              "    </tr>\n",
              "  </tbody>\n",
              "</table>\n",
              "</div>"
            ],
            "text/plain": [
              "                  CHANNEL_NAME  Avg_of_Responses_Creating_Leads\n",
              "0   Company websites - Tracked                         0.052539\n",
              "1                Email Tracked                         0.157848\n",
              "2  External websites - Tracked                         0.006003\n",
              "3                       Others                         0.484806\n",
              "4                  Sales eVite                         0.029690\n",
              "5               Social Natural                         0.006980\n",
              "6                  Unspecified                         0.262134"
            ]
          },
          "metadata": {
            "tags": []
          },
          "execution_count": 56
        }
      ]
    },
    {
      "cell_type": "code",
      "metadata": {
        "colab": {
          "base_uri": "https://localhost:8080/"
        },
        "id": "V9pbiu9DP3Bg",
        "outputId": "a123df0f-a0b7-4d05-da28-24bd0ac8cd03"
      },
      "source": [
        "#Se agrupa por la variable \"CHANNEL_NAME\", mostrando la métrica \"Responses_Creating_Leads\" para saber que cantidad de registros hay por cada canal\n",
        "channels_grouped = dataset.groupby([\"CHANNEL_NAME\"])[\"Responses_Creating_Leads\"].count()\n",
        "channels_grouped"
      ],
      "execution_count": null,
      "outputs": [
        {
          "output_type": "execute_result",
          "data": {
            "text/plain": [
              "CHANNEL_NAME\n",
              "Company websites - Tracked      1129\n",
              "Email Tracked                   3392\n",
              "External websites - Tracked      129\n",
              "Others                         10418\n",
              "Sales eVite                      638\n",
              "Social Natural                   150\n",
              "Unspecified                     5633\n",
              "Name: Responses_Creating_Leads, dtype: int64"
            ]
          },
          "metadata": {
            "tags": []
          },
          "execution_count": 57
        }
      ]
    },
    {
      "cell_type": "code",
      "metadata": {
        "colab": {
          "base_uri": "https://localhost:8080/"
        },
        "id": "lRQGW6b3ajm2",
        "outputId": "eebd53cb-9145-40ca-90a4-8981bac54c24"
      },
      "source": [
        "#Se agrupa por la variable \"CHANNEL_NAME\" y \"Responses_Creating_Leads\", para saber cuantos registros por cada canal y por cada valor de la métrica hay\n",
        "channels_grouped = dataset.groupby([\"CHANNEL_NAME\", \"Responses_Creating_Leads\"])[\"Responses_Creating_Leads\"].count()\n",
        "channels_grouped"
      ],
      "execution_count": null,
      "outputs": [
        {
          "output_type": "execute_result",
          "data": {
            "text/plain": [
              "CHANNEL_NAME                 Responses_Creating_Leads\n",
              "Company websites - Tracked   0                            611\n",
              "                             1                            518\n",
              "Email Tracked                0                           2503\n",
              "                             1                            889\n",
              "External websites - Tracked  0                             97\n",
              "                             1                             32\n",
              "Others                       0                           5865\n",
              "                             1                           4553\n",
              "Sales eVite                  0                            484\n",
              "                             1                            154\n",
              "Social Natural               0                            104\n",
              "                             1                             46\n",
              "Unspecified                  0                           5633\n",
              "Name: Responses_Creating_Leads, dtype: int64"
            ]
          },
          "metadata": {
            "tags": []
          },
          "execution_count": 58
        }
      ]
    },
    {
      "cell_type": "code",
      "metadata": {
        "colab": {
          "base_uri": "https://localhost:8080/"
        },
        "id": "l9scQFfDDV4o",
        "outputId": "21180e54-8d11-4677-ee3d-6055d29f216d"
      },
      "source": [
        "#Se chequea la métrica \"CONVERTED LEADS FROM LEAD CREATING RESPONSES\". \n",
        "#cuantas ocurrencias de cada valor tiene el dataset para \"CONVERTED LEADS FROM LEAD CREATING RESPONSES\":\n",
        "dataset['Converted_Leads_From_Lead_Creating_Responses'].value_counts()"
      ],
      "execution_count": null,
      "outputs": [
        {
          "output_type": "execute_result",
          "data": {
            "text/plain": [
              "0    21351\n",
              "1      138\n",
              "Name: Converted_Leads_From_Lead_Creating_Responses, dtype: int64"
            ]
          },
          "metadata": {
            "tags": []
          },
          "execution_count": 21
        }
      ]
    },
    {
      "cell_type": "code",
      "metadata": {
        "colab": {
          "base_uri": "https://localhost:8080/"
        },
        "id": "5ZNaqAeZCmKd",
        "outputId": "18ae8445-5690-4290-eb7c-37497399ca2a"
      },
      "source": [
        "#En % cuantas ocurrencias de cada valor:\n",
        "dataset['Converted_Leads_From_Lead_Creating_Responses'].value_counts(normalize=True)"
      ],
      "execution_count": null,
      "outputs": [
        {
          "output_type": "execute_result",
          "data": {
            "text/plain": [
              "0    0.993578\n",
              "1    0.006422\n",
              "Name: Converted_Leads_From_Lead_Creating_Responses, dtype: float64"
            ]
          },
          "metadata": {
            "tags": []
          },
          "execution_count": 22
        }
      ]
    },
    {
      "cell_type": "code",
      "metadata": {
        "colab": {
          "base_uri": "https://localhost:8080/",
          "height": 355
        },
        "id": "Bwz9rkugDAdv",
        "outputId": "9ba03878-fe69-4f7a-b560-63d868c95cb5"
      },
      "source": [
        "#Gráfico que muestra la cantidad de valores para la métrica \"CONVERTED LEADS FROM LEAD CREATING RESPONSES\"\n",
        "import seaborn as sns\n",
        "sns.countplot(dataset['Converted_Leads_From_Lead_Creating_Responses'])"
      ],
      "execution_count": null,
      "outputs": [
        {
          "output_type": "stream",
          "text": [
            "/usr/local/lib/python3.7/dist-packages/seaborn/_decorators.py:43: FutureWarning: Pass the following variable as a keyword arg: x. From version 0.12, the only valid positional argument will be `data`, and passing other arguments without an explicit keyword will result in an error or misinterpretation.\n",
            "  FutureWarning\n"
          ],
          "name": "stderr"
        },
        {
          "output_type": "execute_result",
          "data": {
            "text/plain": [
              "<matplotlib.axes._subplots.AxesSubplot at 0x7f57640cfe90>"
            ]
          },
          "metadata": {
            "tags": []
          },
          "execution_count": 23
        },
        {
          "output_type": "display_data",
          "data": {
            "image/png": "[encoded data removed]",
            "text/plain": [
              "<Figure size 432x288 with 1 Axes>"
            ]
          },
          "metadata": {
            "tags": [],
            "needs_background": "light"
          }
        }
      ]
    },
    {
      "cell_type": "code",
      "metadata": {
        "colab": {
          "base_uri": "https://localhost:8080/"
        },
        "id": "uQ7ydWhvOm7u",
        "outputId": "1d649497-de0e-4387-b125-eb6a7ca4a0eb"
      },
      "source": [
        "#Se genera un nuevo dataset que contiene sólo aquellos casos que contienen la métrica \"Responses_Creating_Leads\" en 1(uno) que va a utilizarse para la predicción \n",
        "#de la metrica Converted\n",
        "dataset_converted = dataset[(dataset['Responses_Creating_Leads']==1)]\n",
        "print(dataset_converted.shape)"
      ],
      "execution_count": null,
      "outputs": [
        {
          "output_type": "stream",
          "text": [
            "(6192, 18)\n"
          ],
          "name": "stdout"
        }
      ]
    },
    {
      "cell_type": "code",
      "metadata": {
        "colab": {
          "base_uri": "https://localhost:8080/",
          "height": 228
        },
        "id": "RUWDxaQEPGlL",
        "outputId": "aa2b4e5c-da71-4c4a-f397-8878d2ec850d"
      },
      "source": [
        "#Se agrupa por la variable \"CHANNEL_NAME\", mostrando en % la métrica \"Converted_Leads_From_Lead_Creating_Responses\" \n",
        "channels_grouped_converted = dataset_converted.groupby([\"CHANNEL_NAME\"])\n",
        "channels_grouped_converted = channels_grouped_converted[[\"Converted_Leads_From_Lead_Creating_Responses\"]].count().add_prefix(\"Avg_of_\")\n",
        "channels_grouped_converted.apply(lambda x: x/x.sum()).reset_index()"
      ],
      "execution_count": null,
      "outputs": [
        {
          "output_type": "execute_result",
          "data": {
            "text/html": [
              "<div>\n",
              "<style scoped>\n",
              "    .dataframe tbody tr th:only-of-type {\n",
              "        vertical-align: middle;\n",
              "    }\n",
              "\n",
              "    .dataframe tbody tr th {\n",
              "        vertical-align: top;\n",
              "    }\n",
              "\n",
              "    .dataframe thead th {\n",
              "        text-align: right;\n",
              "    }\n",
              "</style>\n",
              "<table border=\"1\" class=\"dataframe\">\n",
              "  <thead>\n",
              "    <tr style=\"text-align: right;\">\n",
              "      <th></th>\n",
              "      <th>CHANNEL_NAME</th>\n",
              "      <th>Avg_of_Converted_Leads_From_Lead_Creating_Responses</th>\n",
              "    </tr>\n",
              "  </thead>\n",
              "  <tbody>\n",
              "    <tr>\n",
              "      <th>0</th>\n",
              "      <td>Company websites - Tracked</td>\n",
              "      <td>0.083656</td>\n",
              "    </tr>\n",
              "    <tr>\n",
              "      <th>1</th>\n",
              "      <td>Email Tracked</td>\n",
              "      <td>0.143572</td>\n",
              "    </tr>\n",
              "    <tr>\n",
              "      <th>2</th>\n",
              "      <td>External websites - Tracked</td>\n",
              "      <td>0.005168</td>\n",
              "    </tr>\n",
              "    <tr>\n",
              "      <th>3</th>\n",
              "      <td>Others</td>\n",
              "      <td>0.735304</td>\n",
              "    </tr>\n",
              "    <tr>\n",
              "      <th>4</th>\n",
              "      <td>Sales eVite</td>\n",
              "      <td>0.024871</td>\n",
              "    </tr>\n",
              "    <tr>\n",
              "      <th>5</th>\n",
              "      <td>Social Natural</td>\n",
              "      <td>0.007429</td>\n",
              "    </tr>\n",
              "  </tbody>\n",
              "</table>\n",
              "</div>"
            ],
            "text/plain": [
              "                  CHANNEL_NAME  Avg_of_Converted_Leads_From_Lead_Creating_Responses\n",
              "0   Company websites - Tracked                                           0.083656  \n",
              "1                Email Tracked                                           0.143572  \n",
              "2  External websites - Tracked                                           0.005168  \n",
              "3                       Others                                           0.735304  \n",
              "4                  Sales eVite                                           0.024871  \n",
              "5               Social Natural                                           0.007429  "
            ]
          },
          "metadata": {
            "tags": []
          },
          "execution_count": 64
        }
      ]
    },
    {
      "cell_type": "code",
      "metadata": {
        "colab": {
          "base_uri": "https://localhost:8080/"
        },
        "id": "ELmR_uAMP-p7",
        "outputId": "485bdcd9-ac7a-4c8c-8a25-9cfa2d41f027"
      },
      "source": [
        "#Se agrupa por la variable \"CHANNEL_NAME\", mostrando la métrica \"Converted_Leads_From_Lead_Creating_Responses\" para saber que cantidad de registros hay por cada canal\n",
        "channels_grouped_converted = dataset_converted.groupby([\"CHANNEL_NAME\"])[\"Converted_Leads_From_Lead_Creating_Responses\"].count()\n",
        "channels_grouped_converted"
      ],
      "execution_count": null,
      "outputs": [
        {
          "output_type": "execute_result",
          "data": {
            "text/plain": [
              "CHANNEL_NAME\n",
              "Company websites - Tracked      518\n",
              "Email Tracked                   889\n",
              "External websites - Tracked      32\n",
              "Others                         4553\n",
              "Sales eVite                     154\n",
              "Social Natural                   46\n",
              "Name: Converted_Leads_From_Lead_Creating_Responses, dtype: int64"
            ]
          },
          "metadata": {
            "tags": []
          },
          "execution_count": 65
        }
      ]
    },
    {
      "cell_type": "code",
      "metadata": {
        "colab": {
          "base_uri": "https://localhost:8080/"
        },
        "id": "sadpu5pKbiFh",
        "outputId": "78a06fe3-c224-4f29-d82f-6c16d3d45668"
      },
      "source": [
        "#Se agrupa por la variable \"CHANNEL_NAME\" y \"Converted_Leads_From_Lead_Creating_Responses\", para saber cuantos registros por cada canal y por cada valor de la métrica hay\n",
        "channels_grouped_converted = dataset_converted.groupby([\"CHANNEL_NAME\",\"Converted_Leads_From_Lead_Creating_Responses\"])[\"Converted_Leads_From_Lead_Creating_Responses\"].count()\n",
        "channels_grouped_converted"
      ],
      "execution_count": null,
      "outputs": [
        {
          "output_type": "execute_result",
          "data": {
            "text/plain": [
              "CHANNEL_NAME                 Converted_Leads_From_Lead_Creating_Responses\n",
              "Company websites - Tracked   0                                                511\n",
              "                             1                                                  7\n",
              "Email Tracked                0                                                847\n",
              "                             1                                                 42\n",
              "External websites - Tracked  0                                                 32\n",
              "Others                       0                                               4469\n",
              "                             1                                                 84\n",
              "Sales eVite                  0                                                153\n",
              "                             1                                                  1\n",
              "Social Natural               0                                                 42\n",
              "                             1                                                  4\n",
              "Name: Converted_Leads_From_Lead_Creating_Responses, dtype: int64"
            ]
          },
          "metadata": {
            "tags": []
          },
          "execution_count": 66
        }
      ]
    },
    {
      "cell_type": "code",
      "metadata": {
        "id": "yn8vCdHfQQ3C"
      },
      "source": [
        "#Realizo One Hot Encoding para las columnas categóricas\n",
        "from sklearn.preprocessing import OneHotEncoder\n",
        "# Se crea una instancia de one-hot-encoder\n",
        "enc = OneHotEncoder(handle_unknown='ignore')\n",
        "##1\n",
        "#Encoding para la columna\n",
        "enc_df = pd.DataFrame(enc.fit_transform(dataset[['REGION']]).toarray())\n",
        "#Se hace un merge del dataset original con las nuevas columnas\n",
        "X_df = dataset.join(enc_df)\n",
        "#Se renombra la columna\n",
        "X_df.rename(columns={0:\"REGION_EMEA\", 1:\"REGION_LAD\" , 2:\"REGION_NA\"}, inplace = True)\n",
        "##2\n",
        "#Encoding para la columna\n",
        "enc_df = pd.DataFrame(enc.fit_transform(dataset[['MARKET_SEGMENT']]).toarray())\n",
        "#Se hace merge con las nueva columna\n",
        "X_df = X_df.join(enc_df)\n",
        "#Se renombra la columna\n",
        "X_df.rename(columns={0:\"MARKETSEG_ABOVE_MIDSIZE\", 1:\"MARKETSEG_LOWER_MIDSIZE\" , 2:\"MARKETSEG_MIDSIZE\", 3:\"MARKETSEG_UNSPECIFIED\"}, inplace = True)\n",
        "##3\n",
        "#Encoding para la columna\n",
        "enc_df = pd.DataFrame(enc.fit_transform(dataset[['ONE_VOICE_INDUSTRY']]).toarray())\n",
        "#Se hace merge con las nueva columna\n",
        "X_df = X_df.join(enc_df)\n",
        "#Se renombra la columna\n",
        "del X_df['ONE_VOICE_INDUSTRY']\n",
        "X_df.rename(columns={0:\"ONE_VOICE_INDUSTRY\"}, inplace = True)\n",
        "##4\n",
        "#Encoding para la columna\n",
        "enc_df = pd.DataFrame(enc.fit_transform(dataset[['ONE_VOICE_SEGMENT']]).toarray())\n",
        "#Se hace merge con las nueva columna\n",
        "X_df = X_df.join(enc_df)\n",
        "#Se renombra la columna\n",
        "X_df.rename(columns={0:\"VOICE_SEGMENT_MINING\", 1:\"VOICE_SEGMENT_OIL_GAS_X\" , 2:\"VOICE_SEGMENT_SUPPORT_ACT\"}, inplace = True)\n",
        "##5\n",
        "#Encoding para la columna\n",
        "enc_df = pd.DataFrame(enc.fit_transform(dataset[['VANITY_DEPARTMENT']]).toarray())\n",
        "#Se hace merge con las nueva columna\n",
        "X_df = X_df.join(enc_df)\n",
        "#Se renombra la columna\n",
        "X_df.rename(columns={0:\"VANITYDEP_ADMINISTRATION\", 1:\"VANITYDEP_COMMUNICATIONS\" , 2:\"VANITYDEP_CORP_PLANN\", 3:\"VANITYDEP_CUSTOMER_SERV\", 4:\"VANITYDEP_EDUCATION\", 5:\"VANITYDEP_ENGINEERING\", 6:\"VANITYDEP_FACILITIES\", 7:\"VANITYDEP_FINANCE\", 8:\"VANITYDEP_GOVERNMENT\", 9:\"VANITYDEP_HR\", 10:\"VANITYDEP_LEGAL\", 11:\"VANITYDEP_MNGMNT\", 12:\"VANITYDEP_MKTG\", 13:\"VANITYDEP_MEDICAL\", 14:\"VANITYDEP_NEWS\", 15:\"VANITYDEP_OPS\", 16:\"VANITYDEP_QA\", 17:\"VANITYDEP_RESEARCH_DEV\", 18:\"VANITYDEP_SALES\", 19:\"VANITYDEP_TECHNOLOGY\", 20:\"VANITYDEP_TRANSPORTATION\", 21:\"VANITYDEP_UNSPECIFIED\"}, inplace = True)\n",
        "##6\n",
        "#Encoding para la columna\n",
        "enc_df = pd.DataFrame(enc.fit_transform(dataset[['VANITY_LEVEL']]).toarray())\n",
        "#Se hace merge con las nueva columna\n",
        "X_df = X_df.join(enc_df)\n",
        "#Se renombra la columna\n",
        "X_df.rename(columns={0:\"VANITYLEVEL_ASSISTANT\", 1:\"VANITYLEVEL_BLANKTITLE\" , 2:\"VANITYLEVEL_CEO\", 3:\"VANITYLEVEL_CADMINOFF\", 4:\"VANITYLEVEL_CCOMMOFF\", 5:\"VANITYLEVEL_CDATAOFF\", 6:\"VANITYLEVEL_CFINANCEOFF\", 7:\"VANITYLEVEL_CHROFF\", 8:\"VANITYLEVEL_CINFOOFFER\", 9:\"VANITYLEVEL_CLEGALOFF\", 10:\"VANITYLEVEL_CMRKTNGOFF\", 11:\"VANITYLEVEL_COPSOFF\", 12:\"VANITYLEVEL_CPLANNOFF\", 13:\"VANITYLEVEL_CPURCHASINGOFF\", 14:\"VANITYLEVEL_CRISKOFF\", 15:\"VANITYLEVEL_CSALESOFF\", 16:\"VANITYLEVEL_CSECURITYOFF\", 17:\"VANITYLEVEL_CTECHOFF\", 18:\"VANITYLEVEL_CONSULTANT\", 19:\"VANITYLEVEL_DIRECTOR\", 20:\"VANITYLEVEL_EXECUTIVE\", 21:\"VANITYLEVEL_MANAGER\", 22:\"VANITYLEVEL_OTHER\", 23:\"VANITYLEVEL_PROFESSIONAL\", 24:\"VANITYLEVEL_SRMANAGER\", 25:\"VANITYLEVEL_SRPROFESSIONAL\", 26:\"VANITYLEVEL_STUDENT\"}, inplace = True)\n",
        "##7\n",
        "#Encoding para la columna\n",
        "enc_df = pd.DataFrame(enc.fit_transform(dataset[['CHANNEL_NAME']]).toarray())\n",
        "#Se hace merge con las nueva columna\n",
        "X_df = X_df.join(enc_df)\n",
        "#Se renombra la columna\n",
        "X_df.rename(columns={0:\"CHANNEL_EMAIL\", 1:\"CHANNEL_EXTERNALWEB\" , 2:\"CHANNEL_ORACLEWEB\", 3:\"CHANNEL_OTHERS\", 4:\"CHANNEL_SALES\", 5:\"CHANNEL_SOCIAL\", 6:\"CHANNEL_UNSPECIFIED\"}, inplace = True)\n",
        "##8\n",
        "#Encoding para la columna\n",
        "enc_df = pd.DataFrame(enc.fit_transform(dataset[['RESPONSE_TYPE']]).toarray())\n",
        "#Se hace merge con las nueva columna\n",
        "X_df = X_df.join(enc_df)\n",
        "#Se renombra la columna\n",
        "X_df.rename(columns={0:\"RESPONSE_AGENCY\", 1:\"RESPONSE_CHAT_AFTER_HS\" , 2:\"RESPONSE_CHAT_HANDLED\", 3:\"RESPONSE_COMPLETED_EXT_WEB_SURVEY\", 4:\"RESPONSE_COMPLETED_WEB_SURVEY\", 5:\"RESPONSE_CONTACT_US_SUBMITTED\", 6:\"RESPONSE_DEMO\", 7:\"RESPONSE_EVENT_ATTENDED\", 8:\"RESPONSE_EVENT_REGISTERED\", 9:\"RESPONSE_EVENT_REGISTRATION_APPROVED\", 10:\"RESPONSE_EVENT_TRADESHOW_BOOTH_VISIT\", 11:\"RESPONSE_EVENT_TRADESHOW_ENGAGED\", 12:\"RESPONSE_EVENT_WALK_IN\", 13:\"RESPONSE_FACEBOOK_AD\", 14:\"RESPONSE_LANDING_PAD_SUBMISSION\", 15:\"RESPONSE_LINKEDIN_AD\", 16:\"RESPONSE_LINKEDIN_AD\", 17:\"RESPONSE_OU_HIGH_PRIORITY\", 18:\"RESPONSE_OU_LOW_PRIORITY\", 19:\"RESPONSE_OU_MID_PRIORITY\", 20:\"RESPONSE_ORACLE_PROMOTIONS\", 21:\"RESPONSE_PATHFACTORY_VISITOR_ACT\", 22:\"RESPONSE_PATHFACTORY_VISITOR_SESS\", 23:\"RESPONSE_PAY_PREQUAL_COOL\", 24:\"RESPONSE_PAY_PREQUAL_HOT\", 25:\"RESPONSE_PAY_PREQUAL_WARM\", 26:\"RESPONSE_PRODUCT_ENQUIRY\", 27:\"RESPONSE_QUALI_HIGH_VALUE_CONTENT\", 28:\"RESPONSE_QUICK_TOUR\", 29:\"RESPONSE_RECORDED_ASSET_REGISTERED\", 30:\"RESPONSE_SESSION_ATTENDED\", 31:\"RESPONSE_TCO_CALCULATOR_USED\", 32:\"RESPONSE_TM_PREQUAL_COOL\", 33:\"RESPONSE_TM_PREQUAL_HOT\", 34:\"RESPONSE_TM_PREQUAL_MRKTNG\", 35:\"RESPONSE_TM_PREQUAL_WARM\", 36:\"RESPONSE_TRIAL\", 37:\"RESPONSE_VA_CONFIRMED\", 38:\"RESPONSE_WHITEPAPER_DOWNLOADED\", 39:\"RESPONSE_ISEMINAR_ATTENDED\", 40:\"RESPONSE_ISEMINAR_DOWNLOADED\", 41:\"RESPONSE_ISEMINAR_REGISTERED\"}, inplace = True)\n"
      ],
      "execution_count": null,
      "outputs": []
    },
    {
      "cell_type": "code",
      "metadata": {
        "colab": {
          "base_uri": "https://localhost:8080/",
          "height": 427
        },
        "id": "vVhQ1tfjFtIW",
        "outputId": "70b0624a-258e-4676-8081-0b6a49801a3b"
      },
      "source": [
        "#Se eliminas las columnas categóricas\n",
        "del X_df['REGION']\n",
        "del X_df['MARKET_SEGMENT']\n",
        "del X_df['ONE_VOICE_SEGMENT']\n",
        "del X_df['VANITY_DEPARTMENT']\n",
        "del X_df['VANITY_LEVEL']\n",
        "del X_df['CHANNEL_NAME']\n",
        "del X_df['RESPONSE_TYPE']\n",
        "#Se muestra el nuevo dataset con las nuevas columnas\n",
        "X_df"
      ],
      "execution_count": null,
      "outputs": [
        {
          "output_type": "execute_result",
          "data": {
            "text/html": [
              "<div>\n",
              "<style scoped>\n",
              "    .dataframe tbody tr th:only-of-type {\n",
              "        vertical-align: middle;\n",
              "    }\n",
              "\n",
              "    .dataframe tbody tr th {\n",
              "        vertical-align: top;\n",
              "    }\n",
              "\n",
              "    .dataframe thead th {\n",
              "        text-align: right;\n",
              "    }\n",
              "</style>\n",
              "<table border=\"1\" class=\"dataframe\">\n",
              "  <thead>\n",
              "    <tr style=\"text-align: right;\">\n",
              "      <th></th>\n",
              "      <th>COMPANY_KEY</th>\n",
              "      <th>ANNUAL_SALES_USD</th>\n",
              "      <th>NUMBER_OF_EMPLOYEES</th>\n",
              "      <th>KEY_ACCOUNT_FLAG</th>\n",
              "      <th>EMAILABLE_FLAG</th>\n",
              "      <th>PHONABLE_FLAG</th>\n",
              "      <th>CONTACTABLE_FLAG</th>\n",
              "      <th>Market_Segment_Band</th>\n",
              "      <th>Responses_Creating_Leads</th>\n",
              "      <th>Converted_Leads_From_Lead_Creating_Responses</th>\n",
              "      <th>REGION_EMEA</th>\n",
              "      <th>REGION_LAD</th>\n",
              "      <th>REGION_NA</th>\n",
              "      <th>MARKETSEG_ABOVE_MIDSIZE</th>\n",
              "      <th>MARKETSEG_LOWER_MIDSIZE</th>\n",
              "      <th>MARKETSEG_MIDSIZE</th>\n",
              "      <th>MARKETSEG_UNSPECIFIED</th>\n",
              "      <th>ONE_VOICE_INDUSTRY</th>\n",
              "      <th>VOICE_SEGMENT_MINING</th>\n",
              "      <th>VOICE_SEGMENT_OIL_GAS_X</th>\n",
              "      <th>VOICE_SEGMENT_SUPPORT_ACT</th>\n",
              "      <th>VANITYDEP_ADMINISTRATION</th>\n",
              "      <th>VANITYDEP_COMMUNICATIONS</th>\n",
              "      <th>VANITYDEP_CORP_PLANN</th>\n",
              "      <th>VANITYDEP_CUSTOMER_SERV</th>\n",
              "      <th>VANITYDEP_EDUCATION</th>\n",
              "      <th>VANITYDEP_ENGINEERING</th>\n",
              "      <th>VANITYDEP_FACILITIES</th>\n",
              "      <th>VANITYDEP_FINANCE</th>\n",
              "      <th>VANITYDEP_GOVERNMENT</th>\n",
              "      <th>VANITYDEP_HR</th>\n",
              "      <th>VANITYDEP_LEGAL</th>\n",
              "      <th>VANITYDEP_MNGMNT</th>\n",
              "      <th>VANITYDEP_MKTG</th>\n",
              "      <th>VANITYDEP_MEDICAL</th>\n",
              "      <th>VANITYDEP_NEWS</th>\n",
              "      <th>VANITYDEP_OPS</th>\n",
              "      <th>VANITYDEP_QA</th>\n",
              "      <th>VANITYDEP_RESEARCH_DEV</th>\n",
              "      <th>VANITYDEP_SALES</th>\n",
              "      <th>...</th>\n",
              "      <th>RESPONSE_CHAT_HANDLED</th>\n",
              "      <th>RESPONSE_COMPLETED_EXT_WEB_SURVEY</th>\n",
              "      <th>RESPONSE_COMPLETED_WEB_SURVEY</th>\n",
              "      <th>RESPONSE_CONTACT_US_SUBMITTED</th>\n",
              "      <th>RESPONSE_DEMO</th>\n",
              "      <th>RESPONSE_EVENT_ATTENDED</th>\n",
              "      <th>RESPONSE_EVENT_REGISTERED</th>\n",
              "      <th>RESPONSE_EVENT_REGISTRATION_APPROVED</th>\n",
              "      <th>RESPONSE_EVENT_TRADESHOW_BOOTH_VISIT</th>\n",
              "      <th>RESPONSE_EVENT_TRADESHOW_ENGAGED</th>\n",
              "      <th>RESPONSE_EVENT_WALK_IN</th>\n",
              "      <th>RESPONSE_FACEBOOK_AD</th>\n",
              "      <th>RESPONSE_LANDING_PAD_SUBMISSION</th>\n",
              "      <th>RESPONSE_LINKEDIN_AD</th>\n",
              "      <th>RESPONSE_LINKEDIN_AD</th>\n",
              "      <th>RESPONSE_OU_HIGH_PRIORITY</th>\n",
              "      <th>RESPONSE_OU_LOW_PRIORITY</th>\n",
              "      <th>RESPONSE_OU_MID_PRIORITY</th>\n",
              "      <th>RESPONSE_ORACLE_PROMOTIONS</th>\n",
              "      <th>RESPONSE_PATHFACTORY_VISITOR_ACT</th>\n",
              "      <th>RESPONSE_PATHFACTORY_VISITOR_SESS</th>\n",
              "      <th>RESPONSE_PAY_PREQUAL_COOL</th>\n",
              "      <th>RESPONSE_PAY_PREQUAL_HOT</th>\n",
              "      <th>RESPONSE_PAY_PREQUAL_WARM</th>\n",
              "      <th>RESPONSE_PRODUCT_ENQUIRY</th>\n",
              "      <th>RESPONSE_QUALI_HIGH_VALUE_CONTENT</th>\n",
              "      <th>RESPONSE_QUICK_TOUR</th>\n",
              "      <th>RESPONSE_RECORDED_ASSET_REGISTERED</th>\n",
              "      <th>RESPONSE_SESSION_ATTENDED</th>\n",
              "      <th>RESPONSE_TCO_CALCULATOR_USED</th>\n",
              "      <th>RESPONSE_TM_PREQUAL_COOL</th>\n",
              "      <th>RESPONSE_TM_PREQUAL_HOT</th>\n",
              "      <th>RESPONSE_TM_PREQUAL_MRKTNG</th>\n",
              "      <th>RESPONSE_TM_PREQUAL_WARM</th>\n",
              "      <th>RESPONSE_TRIAL</th>\n",
              "      <th>RESPONSE_VA_CONFIRMED</th>\n",
              "      <th>RESPONSE_WHITEPAPER_DOWNLOADED</th>\n",
              "      <th>RESPONSE_ISEMINAR_ATTENDED</th>\n",
              "      <th>RESPONSE_ISEMINAR_DOWNLOADED</th>\n",
              "      <th>RESPONSE_ISEMINAR_REGISTERED</th>\n",
              "    </tr>\n",
              "  </thead>\n",
              "  <tbody>\n",
              "    <tr>\n",
              "      <th>0</th>\n",
              "      <td>58620980099</td>\n",
              "      <td>7.062920e+08</td>\n",
              "      <td>1900.0</td>\n",
              "      <td>0</td>\n",
              "      <td>1</td>\n",
              "      <td>1</td>\n",
              "      <td>1</td>\n",
              "      <td>500</td>\n",
              "      <td>0</td>\n",
              "      <td>0</td>\n",
              "      <td>0.0</td>\n",
              "      <td>0.0</td>\n",
              "      <td>1.0</td>\n",
              "      <td>1.0</td>\n",
              "      <td>0.0</td>\n",
              "      <td>0.0</td>\n",
              "      <td>0.0</td>\n",
              "      <td>1.0</td>\n",
              "      <td>0.0</td>\n",
              "      <td>0.0</td>\n",
              "      <td>1.0</td>\n",
              "      <td>0.0</td>\n",
              "      <td>0.0</td>\n",
              "      <td>0.0</td>\n",
              "      <td>0.0</td>\n",
              "      <td>0.0</td>\n",
              "      <td>0.0</td>\n",
              "      <td>0.0</td>\n",
              "      <td>0.0</td>\n",
              "      <td>0.0</td>\n",
              "      <td>0.0</td>\n",
              "      <td>0.0</td>\n",
              "      <td>0.0</td>\n",
              "      <td>0.0</td>\n",
              "      <td>0.0</td>\n",
              "      <td>0.0</td>\n",
              "      <td>0.0</td>\n",
              "      <td>0.0</td>\n",
              "      <td>0.0</td>\n",
              "      <td>0.0</td>\n",
              "      <td>...</td>\n",
              "      <td>0.0</td>\n",
              "      <td>0.0</td>\n",
              "      <td>0.0</td>\n",
              "      <td>0.0</td>\n",
              "      <td>0.0</td>\n",
              "      <td>0.0</td>\n",
              "      <td>0.0</td>\n",
              "      <td>0.0</td>\n",
              "      <td>0.0</td>\n",
              "      <td>0.0</td>\n",
              "      <td>0.0</td>\n",
              "      <td>0.0</td>\n",
              "      <td>0.0</td>\n",
              "      <td>0.0</td>\n",
              "      <td>0.0</td>\n",
              "      <td>0.0</td>\n",
              "      <td>0.0</td>\n",
              "      <td>0.0</td>\n",
              "      <td>0.0</td>\n",
              "      <td>0.0</td>\n",
              "      <td>0.0</td>\n",
              "      <td>0.0</td>\n",
              "      <td>0.0</td>\n",
              "      <td>0.0</td>\n",
              "      <td>0.0</td>\n",
              "      <td>0.0</td>\n",
              "      <td>0.0</td>\n",
              "      <td>0.0</td>\n",
              "      <td>0.0</td>\n",
              "      <td>0.0</td>\n",
              "      <td>0.0</td>\n",
              "      <td>0.0</td>\n",
              "      <td>0.0</td>\n",
              "      <td>0.0</td>\n",
              "      <td>0.0</td>\n",
              "      <td>0.0</td>\n",
              "      <td>0.0</td>\n",
              "      <td>1.0</td>\n",
              "      <td>0.0</td>\n",
              "      <td>0.0</td>\n",
              "    </tr>\n",
              "    <tr>\n",
              "      <th>1</th>\n",
              "      <td>91994225099</td>\n",
              "      <td>9.415000e+09</td>\n",
              "      <td>3177.0</td>\n",
              "      <td>0</td>\n",
              "      <td>1</td>\n",
              "      <td>1</td>\n",
              "      <td>1</td>\n",
              "      <td>2000</td>\n",
              "      <td>0</td>\n",
              "      <td>0</td>\n",
              "      <td>0.0</td>\n",
              "      <td>0.0</td>\n",
              "      <td>1.0</td>\n",
              "      <td>1.0</td>\n",
              "      <td>0.0</td>\n",
              "      <td>0.0</td>\n",
              "      <td>0.0</td>\n",
              "      <td>1.0</td>\n",
              "      <td>0.0</td>\n",
              "      <td>0.0</td>\n",
              "      <td>1.0</td>\n",
              "      <td>0.0</td>\n",
              "      <td>0.0</td>\n",
              "      <td>0.0</td>\n",
              "      <td>0.0</td>\n",
              "      <td>0.0</td>\n",
              "      <td>0.0</td>\n",
              "      <td>0.0</td>\n",
              "      <td>0.0</td>\n",
              "      <td>0.0</td>\n",
              "      <td>0.0</td>\n",
              "      <td>0.0</td>\n",
              "      <td>0.0</td>\n",
              "      <td>0.0</td>\n",
              "      <td>0.0</td>\n",
              "      <td>0.0</td>\n",
              "      <td>0.0</td>\n",
              "      <td>0.0</td>\n",
              "      <td>0.0</td>\n",
              "      <td>0.0</td>\n",
              "      <td>...</td>\n",
              "      <td>0.0</td>\n",
              "      <td>0.0</td>\n",
              "      <td>0.0</td>\n",
              "      <td>0.0</td>\n",
              "      <td>0.0</td>\n",
              "      <td>0.0</td>\n",
              "      <td>0.0</td>\n",
              "      <td>0.0</td>\n",
              "      <td>0.0</td>\n",
              "      <td>0.0</td>\n",
              "      <td>0.0</td>\n",
              "      <td>0.0</td>\n",
              "      <td>0.0</td>\n",
              "      <td>0.0</td>\n",
              "      <td>0.0</td>\n",
              "      <td>0.0</td>\n",
              "      <td>0.0</td>\n",
              "      <td>0.0</td>\n",
              "      <td>1.0</td>\n",
              "      <td>0.0</td>\n",
              "      <td>0.0</td>\n",
              "      <td>0.0</td>\n",
              "      <td>0.0</td>\n",
              "      <td>0.0</td>\n",
              "      <td>0.0</td>\n",
              "      <td>0.0</td>\n",
              "      <td>0.0</td>\n",
              "      <td>0.0</td>\n",
              "      <td>0.0</td>\n",
              "      <td>0.0</td>\n",
              "      <td>0.0</td>\n",
              "      <td>0.0</td>\n",
              "      <td>0.0</td>\n",
              "      <td>0.0</td>\n",
              "      <td>0.0</td>\n",
              "      <td>0.0</td>\n",
              "      <td>0.0</td>\n",
              "      <td>0.0</td>\n",
              "      <td>0.0</td>\n",
              "      <td>0.0</td>\n",
              "    </tr>\n",
              "    <tr>\n",
              "      <th>2</th>\n",
              "      <td>45783157499</td>\n",
              "      <td>1.444477e+10</td>\n",
              "      <td>2800.0</td>\n",
              "      <td>0</td>\n",
              "      <td>1</td>\n",
              "      <td>1</td>\n",
              "      <td>1</td>\n",
              "      <td>2000</td>\n",
              "      <td>0</td>\n",
              "      <td>0</td>\n",
              "      <td>0.0</td>\n",
              "      <td>0.0</td>\n",
              "      <td>1.0</td>\n",
              "      <td>1.0</td>\n",
              "      <td>0.0</td>\n",
              "      <td>0.0</td>\n",
              "      <td>0.0</td>\n",
              "      <td>1.0</td>\n",
              "      <td>0.0</td>\n",
              "      <td>0.0</td>\n",
              "      <td>1.0</td>\n",
              "      <td>0.0</td>\n",
              "      <td>0.0</td>\n",
              "      <td>0.0</td>\n",
              "      <td>0.0</td>\n",
              "      <td>0.0</td>\n",
              "      <td>0.0</td>\n",
              "      <td>0.0</td>\n",
              "      <td>0.0</td>\n",
              "      <td>0.0</td>\n",
              "      <td>0.0</td>\n",
              "      <td>0.0</td>\n",
              "      <td>0.0</td>\n",
              "      <td>0.0</td>\n",
              "      <td>0.0</td>\n",
              "      <td>0.0</td>\n",
              "      <td>0.0</td>\n",
              "      <td>0.0</td>\n",
              "      <td>0.0</td>\n",
              "      <td>0.0</td>\n",
              "      <td>...</td>\n",
              "      <td>0.0</td>\n",
              "      <td>0.0</td>\n",
              "      <td>0.0</td>\n",
              "      <td>0.0</td>\n",
              "      <td>0.0</td>\n",
              "      <td>0.0</td>\n",
              "      <td>0.0</td>\n",
              "      <td>0.0</td>\n",
              "      <td>0.0</td>\n",
              "      <td>0.0</td>\n",
              "      <td>0.0</td>\n",
              "      <td>0.0</td>\n",
              "      <td>0.0</td>\n",
              "      <td>0.0</td>\n",
              "      <td>0.0</td>\n",
              "      <td>0.0</td>\n",
              "      <td>0.0</td>\n",
              "      <td>0.0</td>\n",
              "      <td>0.0</td>\n",
              "      <td>0.0</td>\n",
              "      <td>0.0</td>\n",
              "      <td>0.0</td>\n",
              "      <td>0.0</td>\n",
              "      <td>0.0</td>\n",
              "      <td>0.0</td>\n",
              "      <td>0.0</td>\n",
              "      <td>0.0</td>\n",
              "      <td>0.0</td>\n",
              "      <td>1.0</td>\n",
              "      <td>0.0</td>\n",
              "      <td>0.0</td>\n",
              "      <td>0.0</td>\n",
              "      <td>0.0</td>\n",
              "      <td>0.0</td>\n",
              "      <td>0.0</td>\n",
              "      <td>0.0</td>\n",
              "      <td>0.0</td>\n",
              "      <td>0.0</td>\n",
              "      <td>0.0</td>\n",
              "      <td>0.0</td>\n",
              "    </tr>\n",
              "    <tr>\n",
              "      <th>3</th>\n",
              "      <td>45783157499</td>\n",
              "      <td>1.444477e+10</td>\n",
              "      <td>2800.0</td>\n",
              "      <td>0</td>\n",
              "      <td>1</td>\n",
              "      <td>1</td>\n",
              "      <td>1</td>\n",
              "      <td>2000</td>\n",
              "      <td>0</td>\n",
              "      <td>0</td>\n",
              "      <td>0.0</td>\n",
              "      <td>0.0</td>\n",
              "      <td>1.0</td>\n",
              "      <td>1.0</td>\n",
              "      <td>0.0</td>\n",
              "      <td>0.0</td>\n",
              "      <td>0.0</td>\n",
              "      <td>1.0</td>\n",
              "      <td>0.0</td>\n",
              "      <td>0.0</td>\n",
              "      <td>1.0</td>\n",
              "      <td>0.0</td>\n",
              "      <td>0.0</td>\n",
              "      <td>0.0</td>\n",
              "      <td>0.0</td>\n",
              "      <td>0.0</td>\n",
              "      <td>0.0</td>\n",
              "      <td>0.0</td>\n",
              "      <td>0.0</td>\n",
              "      <td>0.0</td>\n",
              "      <td>0.0</td>\n",
              "      <td>0.0</td>\n",
              "      <td>0.0</td>\n",
              "      <td>0.0</td>\n",
              "      <td>0.0</td>\n",
              "      <td>0.0</td>\n",
              "      <td>0.0</td>\n",
              "      <td>0.0</td>\n",
              "      <td>0.0</td>\n",
              "      <td>0.0</td>\n",
              "      <td>...</td>\n",
              "      <td>0.0</td>\n",
              "      <td>0.0</td>\n",
              "      <td>0.0</td>\n",
              "      <td>0.0</td>\n",
              "      <td>0.0</td>\n",
              "      <td>0.0</td>\n",
              "      <td>0.0</td>\n",
              "      <td>0.0</td>\n",
              "      <td>0.0</td>\n",
              "      <td>0.0</td>\n",
              "      <td>0.0</td>\n",
              "      <td>0.0</td>\n",
              "      <td>0.0</td>\n",
              "      <td>0.0</td>\n",
              "      <td>0.0</td>\n",
              "      <td>0.0</td>\n",
              "      <td>0.0</td>\n",
              "      <td>0.0</td>\n",
              "      <td>0.0</td>\n",
              "      <td>0.0</td>\n",
              "      <td>0.0</td>\n",
              "      <td>0.0</td>\n",
              "      <td>0.0</td>\n",
              "      <td>0.0</td>\n",
              "      <td>0.0</td>\n",
              "      <td>0.0</td>\n",
              "      <td>0.0</td>\n",
              "      <td>0.0</td>\n",
              "      <td>1.0</td>\n",
              "      <td>0.0</td>\n",
              "      <td>0.0</td>\n",
              "      <td>0.0</td>\n",
              "      <td>0.0</td>\n",
              "      <td>0.0</td>\n",
              "      <td>0.0</td>\n",
              "      <td>0.0</td>\n",
              "      <td>0.0</td>\n",
              "      <td>0.0</td>\n",
              "      <td>0.0</td>\n",
              "      <td>0.0</td>\n",
              "    </tr>\n",
              "    <tr>\n",
              "      <th>4</th>\n",
              "      <td>45783157499</td>\n",
              "      <td>1.444477e+10</td>\n",
              "      <td>2800.0</td>\n",
              "      <td>0</td>\n",
              "      <td>1</td>\n",
              "      <td>1</td>\n",
              "      <td>1</td>\n",
              "      <td>2000</td>\n",
              "      <td>0</td>\n",
              "      <td>0</td>\n",
              "      <td>0.0</td>\n",
              "      <td>0.0</td>\n",
              "      <td>1.0</td>\n",
              "      <td>1.0</td>\n",
              "      <td>0.0</td>\n",
              "      <td>0.0</td>\n",
              "      <td>0.0</td>\n",
              "      <td>1.0</td>\n",
              "      <td>0.0</td>\n",
              "      <td>0.0</td>\n",
              "      <td>1.0</td>\n",
              "      <td>0.0</td>\n",
              "      <td>0.0</td>\n",
              "      <td>0.0</td>\n",
              "      <td>0.0</td>\n",
              "      <td>0.0</td>\n",
              "      <td>0.0</td>\n",
              "      <td>0.0</td>\n",
              "      <td>0.0</td>\n",
              "      <td>0.0</td>\n",
              "      <td>0.0</td>\n",
              "      <td>0.0</td>\n",
              "      <td>0.0</td>\n",
              "      <td>0.0</td>\n",
              "      <td>0.0</td>\n",
              "      <td>0.0</td>\n",
              "      <td>0.0</td>\n",
              "      <td>0.0</td>\n",
              "      <td>0.0</td>\n",
              "      <td>0.0</td>\n",
              "      <td>...</td>\n",
              "      <td>0.0</td>\n",
              "      <td>0.0</td>\n",
              "      <td>0.0</td>\n",
              "      <td>0.0</td>\n",
              "      <td>0.0</td>\n",
              "      <td>0.0</td>\n",
              "      <td>0.0</td>\n",
              "      <td>0.0</td>\n",
              "      <td>0.0</td>\n",
              "      <td>0.0</td>\n",
              "      <td>0.0</td>\n",
              "      <td>0.0</td>\n",
              "      <td>0.0</td>\n",
              "      <td>0.0</td>\n",
              "      <td>0.0</td>\n",
              "      <td>0.0</td>\n",
              "      <td>0.0</td>\n",
              "      <td>0.0</td>\n",
              "      <td>0.0</td>\n",
              "      <td>0.0</td>\n",
              "      <td>0.0</td>\n",
              "      <td>0.0</td>\n",
              "      <td>0.0</td>\n",
              "      <td>0.0</td>\n",
              "      <td>0.0</td>\n",
              "      <td>0.0</td>\n",
              "      <td>0.0</td>\n",
              "      <td>0.0</td>\n",
              "      <td>1.0</td>\n",
              "      <td>0.0</td>\n",
              "      <td>0.0</td>\n",
              "      <td>0.0</td>\n",
              "      <td>0.0</td>\n",
              "      <td>0.0</td>\n",
              "      <td>0.0</td>\n",
              "      <td>0.0</td>\n",
              "      <td>0.0</td>\n",
              "      <td>0.0</td>\n",
              "      <td>0.0</td>\n",
              "      <td>0.0</td>\n",
              "    </tr>\n",
              "    <tr>\n",
              "      <th>...</th>\n",
              "      <td>...</td>\n",
              "      <td>...</td>\n",
              "      <td>...</td>\n",
              "      <td>...</td>\n",
              "      <td>...</td>\n",
              "      <td>...</td>\n",
              "      <td>...</td>\n",
              "      <td>...</td>\n",
              "      <td>...</td>\n",
              "      <td>...</td>\n",
              "      <td>...</td>\n",
              "      <td>...</td>\n",
              "      <td>...</td>\n",
              "      <td>...</td>\n",
              "      <td>...</td>\n",
              "      <td>...</td>\n",
              "      <td>...</td>\n",
              "      <td>...</td>\n",
              "      <td>...</td>\n",
              "      <td>...</td>\n",
              "      <td>...</td>\n",
              "      <td>...</td>\n",
              "      <td>...</td>\n",
              "      <td>...</td>\n",
              "      <td>...</td>\n",
              "      <td>...</td>\n",
              "      <td>...</td>\n",
              "      <td>...</td>\n",
              "      <td>...</td>\n",
              "      <td>...</td>\n",
              "      <td>...</td>\n",
              "      <td>...</td>\n",
              "      <td>...</td>\n",
              "      <td>...</td>\n",
              "      <td>...</td>\n",
              "      <td>...</td>\n",
              "      <td>...</td>\n",
              "      <td>...</td>\n",
              "      <td>...</td>\n",
              "      <td>...</td>\n",
              "      <td>...</td>\n",
              "      <td>...</td>\n",
              "      <td>...</td>\n",
              "      <td>...</td>\n",
              "      <td>...</td>\n",
              "      <td>...</td>\n",
              "      <td>...</td>\n",
              "      <td>...</td>\n",
              "      <td>...</td>\n",
              "      <td>...</td>\n",
              "      <td>...</td>\n",
              "      <td>...</td>\n",
              "      <td>...</td>\n",
              "      <td>...</td>\n",
              "      <td>...</td>\n",
              "      <td>...</td>\n",
              "      <td>...</td>\n",
              "      <td>...</td>\n",
              "      <td>...</td>\n",
              "      <td>...</td>\n",
              "      <td>...</td>\n",
              "      <td>...</td>\n",
              "      <td>...</td>\n",
              "      <td>...</td>\n",
              "      <td>...</td>\n",
              "      <td>...</td>\n",
              "      <td>...</td>\n",
              "      <td>...</td>\n",
              "      <td>...</td>\n",
              "      <td>...</td>\n",
              "      <td>...</td>\n",
              "      <td>...</td>\n",
              "      <td>...</td>\n",
              "      <td>...</td>\n",
              "      <td>...</td>\n",
              "      <td>...</td>\n",
              "      <td>...</td>\n",
              "      <td>...</td>\n",
              "      <td>...</td>\n",
              "      <td>...</td>\n",
              "      <td>...</td>\n",
              "    </tr>\n",
              "    <tr>\n",
              "      <th>21484</th>\n",
              "      <td>80544238499</td>\n",
              "      <td>1.024100e+10</td>\n",
              "      <td>26662.0</td>\n",
              "      <td>0</td>\n",
              "      <td>1</td>\n",
              "      <td>1</td>\n",
              "      <td>1</td>\n",
              "      <td>2000</td>\n",
              "      <td>0</td>\n",
              "      <td>0</td>\n",
              "      <td>0.0</td>\n",
              "      <td>0.0</td>\n",
              "      <td>1.0</td>\n",
              "      <td>1.0</td>\n",
              "      <td>0.0</td>\n",
              "      <td>0.0</td>\n",
              "      <td>0.0</td>\n",
              "      <td>1.0</td>\n",
              "      <td>0.0</td>\n",
              "      <td>0.0</td>\n",
              "      <td>1.0</td>\n",
              "      <td>0.0</td>\n",
              "      <td>0.0</td>\n",
              "      <td>0.0</td>\n",
              "      <td>0.0</td>\n",
              "      <td>0.0</td>\n",
              "      <td>0.0</td>\n",
              "      <td>0.0</td>\n",
              "      <td>0.0</td>\n",
              "      <td>0.0</td>\n",
              "      <td>0.0</td>\n",
              "      <td>0.0</td>\n",
              "      <td>0.0</td>\n",
              "      <td>0.0</td>\n",
              "      <td>0.0</td>\n",
              "      <td>0.0</td>\n",
              "      <td>0.0</td>\n",
              "      <td>0.0</td>\n",
              "      <td>0.0</td>\n",
              "      <td>0.0</td>\n",
              "      <td>...</td>\n",
              "      <td>0.0</td>\n",
              "      <td>0.0</td>\n",
              "      <td>0.0</td>\n",
              "      <td>0.0</td>\n",
              "      <td>0.0</td>\n",
              "      <td>0.0</td>\n",
              "      <td>0.0</td>\n",
              "      <td>0.0</td>\n",
              "      <td>0.0</td>\n",
              "      <td>0.0</td>\n",
              "      <td>0.0</td>\n",
              "      <td>0.0</td>\n",
              "      <td>0.0</td>\n",
              "      <td>0.0</td>\n",
              "      <td>0.0</td>\n",
              "      <td>0.0</td>\n",
              "      <td>0.0</td>\n",
              "      <td>0.0</td>\n",
              "      <td>0.0</td>\n",
              "      <td>0.0</td>\n",
              "      <td>0.0</td>\n",
              "      <td>0.0</td>\n",
              "      <td>0.0</td>\n",
              "      <td>0.0</td>\n",
              "      <td>0.0</td>\n",
              "      <td>0.0</td>\n",
              "      <td>0.0</td>\n",
              "      <td>0.0</td>\n",
              "      <td>0.0</td>\n",
              "      <td>0.0</td>\n",
              "      <td>0.0</td>\n",
              "      <td>0.0</td>\n",
              "      <td>0.0</td>\n",
              "      <td>0.0</td>\n",
              "      <td>0.0</td>\n",
              "      <td>0.0</td>\n",
              "      <td>1.0</td>\n",
              "      <td>0.0</td>\n",
              "      <td>0.0</td>\n",
              "      <td>0.0</td>\n",
              "    </tr>\n",
              "    <tr>\n",
              "      <th>21485</th>\n",
              "      <td>33200299699</td>\n",
              "      <td>2.000000e+07</td>\n",
              "      <td>31.0</td>\n",
              "      <td>0</td>\n",
              "      <td>1</td>\n",
              "      <td>1</td>\n",
              "      <td>1</td>\n",
              "      <td>10</td>\n",
              "      <td>0</td>\n",
              "      <td>0</td>\n",
              "      <td>1.0</td>\n",
              "      <td>0.0</td>\n",
              "      <td>0.0</td>\n",
              "      <td>0.0</td>\n",
              "      <td>1.0</td>\n",
              "      <td>0.0</td>\n",
              "      <td>0.0</td>\n",
              "      <td>1.0</td>\n",
              "      <td>0.0</td>\n",
              "      <td>0.0</td>\n",
              "      <td>1.0</td>\n",
              "      <td>0.0</td>\n",
              "      <td>0.0</td>\n",
              "      <td>0.0</td>\n",
              "      <td>0.0</td>\n",
              "      <td>0.0</td>\n",
              "      <td>0.0</td>\n",
              "      <td>0.0</td>\n",
              "      <td>0.0</td>\n",
              "      <td>0.0</td>\n",
              "      <td>0.0</td>\n",
              "      <td>0.0</td>\n",
              "      <td>0.0</td>\n",
              "      <td>0.0</td>\n",
              "      <td>0.0</td>\n",
              "      <td>0.0</td>\n",
              "      <td>0.0</td>\n",
              "      <td>0.0</td>\n",
              "      <td>0.0</td>\n",
              "      <td>0.0</td>\n",
              "      <td>...</td>\n",
              "      <td>0.0</td>\n",
              "      <td>0.0</td>\n",
              "      <td>0.0</td>\n",
              "      <td>0.0</td>\n",
              "      <td>0.0</td>\n",
              "      <td>1.0</td>\n",
              "      <td>0.0</td>\n",
              "      <td>0.0</td>\n",
              "      <td>0.0</td>\n",
              "      <td>0.0</td>\n",
              "      <td>0.0</td>\n",
              "      <td>0.0</td>\n",
              "      <td>0.0</td>\n",
              "      <td>0.0</td>\n",
              "      <td>0.0</td>\n",
              "      <td>0.0</td>\n",
              "      <td>0.0</td>\n",
              "      <td>0.0</td>\n",
              "      <td>0.0</td>\n",
              "      <td>0.0</td>\n",
              "      <td>0.0</td>\n",
              "      <td>0.0</td>\n",
              "      <td>0.0</td>\n",
              "      <td>0.0</td>\n",
              "      <td>0.0</td>\n",
              "      <td>0.0</td>\n",
              "      <td>0.0</td>\n",
              "      <td>0.0</td>\n",
              "      <td>0.0</td>\n",
              "      <td>0.0</td>\n",
              "      <td>0.0</td>\n",
              "      <td>0.0</td>\n",
              "      <td>0.0</td>\n",
              "      <td>0.0</td>\n",
              "      <td>0.0</td>\n",
              "      <td>0.0</td>\n",
              "      <td>0.0</td>\n",
              "      <td>0.0</td>\n",
              "      <td>0.0</td>\n",
              "      <td>0.0</td>\n",
              "    </tr>\n",
              "    <tr>\n",
              "      <th>21486</th>\n",
              "      <td>80544238499</td>\n",
              "      <td>1.024100e+10</td>\n",
              "      <td>26662.0</td>\n",
              "      <td>0</td>\n",
              "      <td>1</td>\n",
              "      <td>1</td>\n",
              "      <td>1</td>\n",
              "      <td>2000</td>\n",
              "      <td>0</td>\n",
              "      <td>0</td>\n",
              "      <td>0.0</td>\n",
              "      <td>0.0</td>\n",
              "      <td>1.0</td>\n",
              "      <td>1.0</td>\n",
              "      <td>0.0</td>\n",
              "      <td>0.0</td>\n",
              "      <td>0.0</td>\n",
              "      <td>1.0</td>\n",
              "      <td>0.0</td>\n",
              "      <td>0.0</td>\n",
              "      <td>1.0</td>\n",
              "      <td>0.0</td>\n",
              "      <td>0.0</td>\n",
              "      <td>0.0</td>\n",
              "      <td>0.0</td>\n",
              "      <td>0.0</td>\n",
              "      <td>0.0</td>\n",
              "      <td>0.0</td>\n",
              "      <td>0.0</td>\n",
              "      <td>0.0</td>\n",
              "      <td>0.0</td>\n",
              "      <td>0.0</td>\n",
              "      <td>0.0</td>\n",
              "      <td>0.0</td>\n",
              "      <td>0.0</td>\n",
              "      <td>0.0</td>\n",
              "      <td>0.0</td>\n",
              "      <td>0.0</td>\n",
              "      <td>0.0</td>\n",
              "      <td>0.0</td>\n",
              "      <td>...</td>\n",
              "      <td>0.0</td>\n",
              "      <td>0.0</td>\n",
              "      <td>0.0</td>\n",
              "      <td>0.0</td>\n",
              "      <td>0.0</td>\n",
              "      <td>0.0</td>\n",
              "      <td>0.0</td>\n",
              "      <td>0.0</td>\n",
              "      <td>0.0</td>\n",
              "      <td>0.0</td>\n",
              "      <td>0.0</td>\n",
              "      <td>0.0</td>\n",
              "      <td>0.0</td>\n",
              "      <td>0.0</td>\n",
              "      <td>0.0</td>\n",
              "      <td>0.0</td>\n",
              "      <td>0.0</td>\n",
              "      <td>0.0</td>\n",
              "      <td>0.0</td>\n",
              "      <td>0.0</td>\n",
              "      <td>0.0</td>\n",
              "      <td>0.0</td>\n",
              "      <td>0.0</td>\n",
              "      <td>0.0</td>\n",
              "      <td>0.0</td>\n",
              "      <td>0.0</td>\n",
              "      <td>0.0</td>\n",
              "      <td>0.0</td>\n",
              "      <td>0.0</td>\n",
              "      <td>0.0</td>\n",
              "      <td>0.0</td>\n",
              "      <td>0.0</td>\n",
              "      <td>0.0</td>\n",
              "      <td>0.0</td>\n",
              "      <td>0.0</td>\n",
              "      <td>0.0</td>\n",
              "      <td>1.0</td>\n",
              "      <td>0.0</td>\n",
              "      <td>0.0</td>\n",
              "      <td>0.0</td>\n",
              "    </tr>\n",
              "    <tr>\n",
              "      <th>21487</th>\n",
              "      <td>50944087399</td>\n",
              "      <td>2.300000e+10</td>\n",
              "      <td>35000.0</td>\n",
              "      <td>0</td>\n",
              "      <td>1</td>\n",
              "      <td>1</td>\n",
              "      <td>1</td>\n",
              "      <td>2000</td>\n",
              "      <td>0</td>\n",
              "      <td>0</td>\n",
              "      <td>1.0</td>\n",
              "      <td>0.0</td>\n",
              "      <td>0.0</td>\n",
              "      <td>1.0</td>\n",
              "      <td>0.0</td>\n",
              "      <td>0.0</td>\n",
              "      <td>0.0</td>\n",
              "      <td>1.0</td>\n",
              "      <td>0.0</td>\n",
              "      <td>1.0</td>\n",
              "      <td>0.0</td>\n",
              "      <td>0.0</td>\n",
              "      <td>0.0</td>\n",
              "      <td>0.0</td>\n",
              "      <td>0.0</td>\n",
              "      <td>0.0</td>\n",
              "      <td>0.0</td>\n",
              "      <td>0.0</td>\n",
              "      <td>0.0</td>\n",
              "      <td>0.0</td>\n",
              "      <td>0.0</td>\n",
              "      <td>0.0</td>\n",
              "      <td>0.0</td>\n",
              "      <td>0.0</td>\n",
              "      <td>0.0</td>\n",
              "      <td>0.0</td>\n",
              "      <td>0.0</td>\n",
              "      <td>0.0</td>\n",
              "      <td>0.0</td>\n",
              "      <td>0.0</td>\n",
              "      <td>...</td>\n",
              "      <td>0.0</td>\n",
              "      <td>0.0</td>\n",
              "      <td>0.0</td>\n",
              "      <td>0.0</td>\n",
              "      <td>0.0</td>\n",
              "      <td>0.0</td>\n",
              "      <td>1.0</td>\n",
              "      <td>0.0</td>\n",
              "      <td>0.0</td>\n",
              "      <td>0.0</td>\n",
              "      <td>0.0</td>\n",
              "      <td>0.0</td>\n",
              "      <td>0.0</td>\n",
              "      <td>0.0</td>\n",
              "      <td>0.0</td>\n",
              "      <td>0.0</td>\n",
              "      <td>0.0</td>\n",
              "      <td>0.0</td>\n",
              "      <td>0.0</td>\n",
              "      <td>0.0</td>\n",
              "      <td>0.0</td>\n",
              "      <td>0.0</td>\n",
              "      <td>0.0</td>\n",
              "      <td>0.0</td>\n",
              "      <td>0.0</td>\n",
              "      <td>0.0</td>\n",
              "      <td>0.0</td>\n",
              "      <td>0.0</td>\n",
              "      <td>0.0</td>\n",
              "      <td>0.0</td>\n",
              "      <td>0.0</td>\n",
              "      <td>0.0</td>\n",
              "      <td>0.0</td>\n",
              "      <td>0.0</td>\n",
              "      <td>0.0</td>\n",
              "      <td>0.0</td>\n",
              "      <td>0.0</td>\n",
              "      <td>0.0</td>\n",
              "      <td>0.0</td>\n",
              "      <td>0.0</td>\n",
              "    </tr>\n",
              "    <tr>\n",
              "      <th>21488</th>\n",
              "      <td>54971480699</td>\n",
              "      <td>4.500000e+10</td>\n",
              "      <td>68829.0</td>\n",
              "      <td>0</td>\n",
              "      <td>1</td>\n",
              "      <td>1</td>\n",
              "      <td>1</td>\n",
              "      <td>2000</td>\n",
              "      <td>0</td>\n",
              "      <td>0</td>\n",
              "      <td>0.0</td>\n",
              "      <td>1.0</td>\n",
              "      <td>0.0</td>\n",
              "      <td>1.0</td>\n",
              "      <td>0.0</td>\n",
              "      <td>0.0</td>\n",
              "      <td>0.0</td>\n",
              "      <td>1.0</td>\n",
              "      <td>0.0</td>\n",
              "      <td>1.0</td>\n",
              "      <td>0.0</td>\n",
              "      <td>0.0</td>\n",
              "      <td>0.0</td>\n",
              "      <td>0.0</td>\n",
              "      <td>0.0</td>\n",
              "      <td>0.0</td>\n",
              "      <td>0.0</td>\n",
              "      <td>0.0</td>\n",
              "      <td>0.0</td>\n",
              "      <td>0.0</td>\n",
              "      <td>0.0</td>\n",
              "      <td>0.0</td>\n",
              "      <td>0.0</td>\n",
              "      <td>0.0</td>\n",
              "      <td>0.0</td>\n",
              "      <td>0.0</td>\n",
              "      <td>0.0</td>\n",
              "      <td>0.0</td>\n",
              "      <td>0.0</td>\n",
              "      <td>0.0</td>\n",
              "      <td>...</td>\n",
              "      <td>0.0</td>\n",
              "      <td>0.0</td>\n",
              "      <td>0.0</td>\n",
              "      <td>0.0</td>\n",
              "      <td>0.0</td>\n",
              "      <td>0.0</td>\n",
              "      <td>0.0</td>\n",
              "      <td>0.0</td>\n",
              "      <td>0.0</td>\n",
              "      <td>1.0</td>\n",
              "      <td>0.0</td>\n",
              "      <td>0.0</td>\n",
              "      <td>0.0</td>\n",
              "      <td>0.0</td>\n",
              "      <td>0.0</td>\n",
              "      <td>0.0</td>\n",
              "      <td>0.0</td>\n",
              "      <td>0.0</td>\n",
              "      <td>0.0</td>\n",
              "      <td>0.0</td>\n",
              "      <td>0.0</td>\n",
              "      <td>0.0</td>\n",
              "      <td>0.0</td>\n",
              "      <td>0.0</td>\n",
              "      <td>0.0</td>\n",
              "      <td>0.0</td>\n",
              "      <td>0.0</td>\n",
              "      <td>0.0</td>\n",
              "      <td>0.0</td>\n",
              "      <td>0.0</td>\n",
              "      <td>0.0</td>\n",
              "      <td>0.0</td>\n",
              "      <td>0.0</td>\n",
              "      <td>0.0</td>\n",
              "      <td>0.0</td>\n",
              "      <td>0.0</td>\n",
              "      <td>0.0</td>\n",
              "      <td>0.0</td>\n",
              "      <td>0.0</td>\n",
              "      <td>0.0</td>\n",
              "    </tr>\n",
              "  </tbody>\n",
              "</table>\n",
              "<p>21489 rows × 119 columns</p>\n",
              "</div>"
            ],
            "text/plain": [
              "       COMPANY_KEY  ...  RESPONSE_ISEMINAR_REGISTERED\n",
              "0      58620980099  ...                           0.0\n",
              "1      91994225099  ...                           0.0\n",
              "2      45783157499  ...                           0.0\n",
              "3      45783157499  ...                           0.0\n",
              "4      45783157499  ...                           0.0\n",
              "...            ...  ...                           ...\n",
              "21484  80544238499  ...                           0.0\n",
              "21485  33200299699  ...                           0.0\n",
              "21486  80544238499  ...                           0.0\n",
              "21487  50944087399  ...                           0.0\n",
              "21488  54971480699  ...                           0.0\n",
              "\n",
              "[21489 rows x 119 columns]"
            ]
          },
          "metadata": {
            "tags": []
          },
          "execution_count": 19
        }
      ]
    },
    {
      "cell_type": "code",
      "metadata": {
        "id": "HmRz8TS5o-jn",
        "colab": {
          "base_uri": "https://localhost:8080/"
        },
        "outputId": "e09f1a5d-6590-4223-8179-9f8b86c8f3a9"
      },
      "source": [
        "#Se genera un nuevo dataset que contiene sólo aquellos casos que contienen la métrica \"Responses_Creating_Leads\" en 1(uno) que va a utilizarse para la predicción \n",
        "#de la metrica Converted\n",
        "X_df_Converted = X_df[(X_df['Responses_Creating_Leads']==1)]\n",
        "print(X_df_Converted.shape)"
      ],
      "execution_count": null,
      "outputs": [
        {
          "output_type": "stream",
          "text": [
            "(6192, 119)\n"
          ],
          "name": "stdout"
        }
      ]
    },
    {
      "cell_type": "code",
      "metadata": {
        "id": "npAgSFqAKKaw"
      },
      "source": [
        "#Teniendo el dataset que se va a utilizar para predecir la métrica \"Responses_Creating_Leads\", elimino la métrica Converted Leads\n",
        "del X_df['Converted_Leads_From_Lead_Creating_Responses']"
      ],
      "execution_count": null,
      "outputs": []
    },
    {
      "cell_type": "code",
      "metadata": {
        "id": "xMthOpvs22va"
      },
      "source": [
        "#Divido ambos datasets en features y target\n",
        "y_Leads = X_df['Responses_Creating_Leads']\n",
        "X_Leads = X_df.drop('Responses_Creating_Leads', axis=1)\n",
        "\n",
        "y_Converted = X_df_Converted['Converted_Leads_From_Lead_Creating_Responses']\n",
        "X_Converted = X_df_Converted.drop('Converted_Leads_From_Lead_Creating_Responses', axis=1)"
      ],
      "execution_count": null,
      "outputs": []
    },
    {
      "cell_type": "code",
      "metadata": {
        "id": "RdSCWuA8hC_u",
        "colab": {
          "base_uri": "https://localhost:8080/"
        },
        "outputId": "9b0cb7ec-6aae-41ea-962c-f62ce9d88a5e"
      },
      "source": [
        "#Se realiza el split into train test sets del dataset que va a predecir la métrica \"Responses_Creating_Leads\"\n",
        "from sklearn.model_selection import train_test_split\n",
        "X_train_Leads, X_test_Leads, y_train_Leads, y_test_Leads = train_test_split(X_Leads, y_Leads, test_size=0.30, random_state=1)\n",
        "print(X_train_Leads.shape, X_test_Leads.shape, y_train_Leads.shape, y_test_Leads.shape)"
      ],
      "execution_count": null,
      "outputs": [
        {
          "output_type": "stream",
          "text": [
            "(15042, 117) (6447, 117) (15042,) (6447,)\n"
          ],
          "name": "stdout"
        }
      ]
    },
    {
      "cell_type": "code",
      "metadata": {
        "colab": {
          "base_uri": "https://localhost:8080/"
        },
        "id": "L7amdd5sMpI7",
        "outputId": "7c707860-f5b8-48e2-b35f-1f69b3ac3e2f"
      },
      "source": [
        "#Se realiza el split into train test sets del dataset que va a predecir la métrica \"Converted_Leads_From_Lead_Creating_Responses\"\n",
        "X_train_Converted, X_test_Converted, y_train_Converted, y_test_Converted = train_test_split(X_Converted, y_Converted, test_size=0.30, random_state=1)\n",
        "print(X_train_Converted.shape, X_test_Converted.shape, y_train_Converted.shape, y_test_Converted.shape)"
      ],
      "execution_count": null,
      "outputs": [
        {
          "output_type": "stream",
          "text": [
            "(4334, 118) (1858, 118) (4334,) (1858,)\n"
          ],
          "name": "stdout"
        }
      ]
    },
    {
      "cell_type": "markdown",
      "metadata": {
        "id": "9W45tKDKI4t4"
      },
      "source": [
        "# **Random Search Hyperparameter**"
      ]
    },
    {
      "cell_type": "code",
      "metadata": {
        "colab": {
          "base_uri": "https://localhost:8080/"
        },
        "id": "sl8hMMvUJP4B",
        "outputId": "a14cb7b5-3871-4c1f-c612-e3331a37a261"
      },
      "source": [
        "import numpy  as np\n",
        "from sklearn.model_selection import RandomizedSearchCV\n",
        "from pprint import pprint\n",
        "#Número de árboles para random forest\n",
        "n_estimators = [int(x) for x in np.linspace(start = 100, stop = 2000, num = 10)]\n",
        "#Número de features para considerar en cada split\n",
        "max_features = ['auto', 'sqrt']\n",
        "#Máximo número de levels en el árbol\n",
        "max_depth = [int(x) for x in np.linspace(10, 110, num = 11)]\n",
        "max_depth.append(None)\n",
        "#Mínimo numero de muestras requeridas para dividir un nodo\n",
        "min_samples_split = [2, 5, 10]\n",
        "#Mínimo numero de muestras requeridas en cada nodo hoja\n",
        "min_samples_leaf = [1, 2, 4]\n",
        "#Método para seleccionar muestras para entrenar cada árbol\n",
        "bootstrap = [True, False]\n",
        "#Se crea el random grid\n",
        "random_grid = {'n_estimators': n_estimators,\n",
        "               'max_features': max_features,\n",
        "               'max_depth': max_depth,\n",
        "               'min_samples_split': min_samples_split,\n",
        "               'min_samples_leaf': min_samples_leaf,\n",
        "               'bootstrap': bootstrap}\n",
        "pprint(random_grid)\n",
        "{'bootstrap': [True, False],\n",
        " 'max_depth': [10, 20, 30, 40, 50, 60, 70, 80, 90, 100, None],\n",
        " 'max_features': ['auto', 'sqrt'],\n",
        " 'min_samples_leaf': [1, 2, 4],\n",
        " 'min_samples_split': [2, 5, 10],\n",
        " 'n_estimators': [200, 400, 600, 800, 1000, 1200, 1400, 1600, 1800, 2000]}"
      ],
      "execution_count": null,
      "outputs": [
        {
          "output_type": "stream",
          "text": [
            "{'bootstrap': [True, False],\n",
            " 'max_depth': [10, 20, 30, 40, 50, 60, 70, 80, 90, 100, 110, None],\n",
            " 'max_features': ['auto', 'sqrt'],\n",
            " 'min_samples_leaf': [1, 2, 4],\n",
            " 'min_samples_split': [2, 5, 10],\n",
            " 'n_estimators': [100, 311, 522, 733, 944, 1155, 1366, 1577, 1788, 2000]}\n"
          ],
          "name": "stdout"
        },
        {
          "output_type": "execute_result",
          "data": {
            "text/plain": [
              "{'bootstrap': [True, False],\n",
              " 'max_depth': [10, 20, 30, 40, 50, 60, 70, 80, 90, 100, None],\n",
              " 'max_features': ['auto', 'sqrt'],\n",
              " 'min_samples_leaf': [1, 2, 4],\n",
              " 'min_samples_split': [2, 5, 10],\n",
              " 'n_estimators': [200, 400, 600, 800, 1000, 1200, 1400, 1600, 1800, 2000]}"
            ]
          },
          "metadata": {
            "tags": []
          },
          "execution_count": 28
        }
      ]
    },
    {
      "cell_type": "code",
      "metadata": {
        "colab": {
          "base_uri": "https://localhost:8080/"
        },
        "id": "gkilgXuML668",
        "outputId": "b69e0d0b-118a-44f2-e688-f53165609c47"
      },
      "source": [
        "#Se usa el random grid para buscar los mejores hiperparametros\n",
        "#Primero se crea el modelo base a mejorar\n",
        "rf = RandomForestClassifier()\n",
        "#Random search de parametros, usando 3 fold cross validation, \n",
        "#Se busca a través de 100 combinaciones diferentes, y se usan todos los nucleos disponibles\n",
        "rf_random = RandomizedSearchCV(estimator = rf, param_distributions = random_grid, n_iter = 100, cv = 3, verbose=2, random_state=42, n_jobs = -1)\n",
        "#Fit el modelo random search\n",
        "rf_random.fit(X_train_Leads, y_train_Leads)"
      ],
      "execution_count": null,
      "outputs": [
        {
          "output_type": "stream",
          "text": [
            "Fitting 3 folds for each of 100 candidates, totalling 300 fits\n"
          ],
          "name": "stdout"
        },
        {
          "output_type": "stream",
          "text": [
            "[Parallel(n_jobs=-1)]: Using backend LokyBackend with 2 concurrent workers.\n",
            "[Parallel(n_jobs=-1)]: Done  37 tasks      | elapsed:  6.5min\n",
            "/usr/local/lib/python3.7/dist-packages/joblib/externals/loky/process_executor.py:691: UserWarning:\n",
            "\n",
            "A worker stopped while some jobs were given to the executor. This can be caused by a too short worker timeout or by a memory leak.\n",
            "\n",
            "[Parallel(n_jobs=-1)]: Done 158 tasks      | elapsed: 30.0min\n",
            "[Parallel(n_jobs=-1)]: Done 300 out of 300 | elapsed: 54.5min finished\n"
          ],
          "name": "stderr"
        },
        {
          "output_type": "execute_result",
          "data": {
            "text/plain": [
              "RandomizedSearchCV(cv=3, error_score=nan,\n",
              "                   estimator=RandomForestClassifier(bootstrap=True,\n",
              "                                                    ccp_alpha=0.0,\n",
              "                                                    class_weight=None,\n",
              "                                                    criterion='gini',\n",
              "                                                    max_depth=None,\n",
              "                                                    max_features='auto',\n",
              "                                                    max_leaf_nodes=None,\n",
              "                                                    max_samples=None,\n",
              "                                                    min_impurity_decrease=0.0,\n",
              "                                                    min_impurity_split=None,\n",
              "                                                    min_samples_leaf=1,\n",
              "                                                    min_samples_split=2,\n",
              "                                                    min_weight_fraction_leaf=0.0,\n",
              "                                                    n_estimators=100,\n",
              "                                                    n_jobs...\n",
              "                   iid='deprecated', n_iter=100, n_jobs=-1,\n",
              "                   param_distributions={'bootstrap': [True, False],\n",
              "                                        'max_depth': [10, 20, 30, 40, 50, 60,\n",
              "                                                      70, 80, 90, 100, 110,\n",
              "                                                      None],\n",
              "                                        'max_features': ['auto', 'sqrt'],\n",
              "                                        'min_samples_leaf': [1, 2, 4],\n",
              "                                        'min_samples_split': [2, 5, 10],\n",
              "                                        'n_estimators': [100, 311, 522, 733,\n",
              "                                                         944, 1155, 1366, 1577,\n",
              "                                                         1788, 2000]},\n",
              "                   pre_dispatch='2*n_jobs', random_state=42, refit=True,\n",
              "                   return_train_score=False, scoring=None, verbose=2)"
            ]
          },
          "metadata": {
            "tags": []
          },
          "execution_count": 27
        }
      ]
    },
    {
      "cell_type": "code",
      "metadata": {
        "colab": {
          "base_uri": "https://localhost:8080/"
        },
        "id": "A81shNzxZoco",
        "outputId": "02e513a9-a382-4191-e607-7b7485d7c4e9"
      },
      "source": [
        "#Se imprimen cuales son los mejores parámetros\n",
        "rf_random.best_params_"
      ],
      "execution_count": null,
      "outputs": [
        {
          "output_type": "execute_result",
          "data": {
            "text/plain": [
              "{'bootstrap': False,\n",
              " 'max_depth': 70,\n",
              " 'max_features': 'sqrt',\n",
              " 'min_samples_leaf': 1,\n",
              " 'min_samples_split': 5,\n",
              " 'n_estimators': 1577}"
            ]
          },
          "metadata": {
            "tags": []
          },
          "execution_count": 28
        }
      ]
    },
    {
      "cell_type": "markdown",
      "metadata": {
        "id": "gnS6LbmcfwWc"
      },
      "source": [
        "# **Grid Search with Cross Validation**"
      ]
    },
    {
      "cell_type": "code",
      "metadata": {
        "id": "LLRpguDxf5A8"
      },
      "source": [
        "from sklearn.model_selection import GridSearchCV\n",
        "#Se crea el grid de parametros basado en los resultados de Random Search\n",
        "param_grid = {\n",
        "    'bootstrap': [False],\n",
        "    'max_depth': [80, 90, 100, 110],\n",
        "    'max_features': [2, 3],\n",
        "    'min_samples_leaf': [1, 2, 3],\n",
        "    'min_samples_split': [3, 5, 7],\n",
        "    'n_estimators': [1000, 1500, 1800, 2100]\n",
        "}\n",
        "#Se crea el modelo base\n",
        "rf = RandomForestClassifier()\n",
        "#Se instancia el modelo grid search\n",
        "grid_search = GridSearchCV(estimator = rf, param_grid = param_grid, \n",
        "                          cv = 3, n_jobs = -1, verbose = 2)"
      ],
      "execution_count": null,
      "outputs": []
    },
    {
      "cell_type": "code",
      "metadata": {
        "colab": {
          "base_uri": "https://localhost:8080/"
        },
        "id": "5JqZVY0chN7w",
        "outputId": "9556030c-4252-4f5c-8046-874d8e983965"
      },
      "source": [
        "#Se hace el fit grid search en los datos\n",
        "grid_search.fit(X_train_Leads, y_train_Leads)"
      ],
      "execution_count": null,
      "outputs": [
        {
          "output_type": "stream",
          "text": [
            "Fitting 3 folds for each of 288 candidates, totalling 864 fits\n"
          ],
          "name": "stdout"
        },
        {
          "output_type": "stream",
          "text": [
            "[Parallel(n_jobs=-1)]: Using backend LokyBackend with 2 concurrent workers.\n",
            "/usr/local/lib/python3.7/dist-packages/joblib/externals/loky/process_executor.py:691: UserWarning:\n",
            "\n",
            "A worker stopped while some jobs were given to the executor. This can be caused by a too short worker timeout or by a memory leak.\n",
            "\n",
            "[Parallel(n_jobs=-1)]: Done  37 tasks      | elapsed: 12.0min\n",
            "[Parallel(n_jobs=-1)]: Done 158 tasks      | elapsed: 36.7min\n",
            "[Parallel(n_jobs=-1)]: Done 361 tasks      | elapsed: 81.2min\n",
            "[Parallel(n_jobs=-1)]: Done 644 tasks      | elapsed: 139.7min\n",
            "[Parallel(n_jobs=-1)]: Done 864 out of 864 | elapsed: 187.3min finished\n"
          ],
          "name": "stderr"
        },
        {
          "output_type": "execute_result",
          "data": {
            "text/plain": [
              "GridSearchCV(cv=3, error_score=nan,\n",
              "             estimator=RandomForestClassifier(bootstrap=True, ccp_alpha=0.0,\n",
              "                                              class_weight=None,\n",
              "                                              criterion='gini', max_depth=None,\n",
              "                                              max_features='auto',\n",
              "                                              max_leaf_nodes=None,\n",
              "                                              max_samples=None,\n",
              "                                              min_impurity_decrease=0.0,\n",
              "                                              min_impurity_split=None,\n",
              "                                              min_samples_leaf=1,\n",
              "                                              min_samples_split=2,\n",
              "                                              min_weight_fraction_leaf=0.0,\n",
              "                                              n_estimators=100, n_jobs=None,\n",
              "                                              oob_score=False,\n",
              "                                              random_state=None, verbose=0,\n",
              "                                              warm_start=False),\n",
              "             iid='deprecated', n_jobs=-1,\n",
              "             param_grid={'bootstrap': [False], 'max_depth': [80, 90, 100, 110],\n",
              "                         'max_features': [2, 3], 'min_samples_leaf': [1, 2, 3],\n",
              "                         'min_samples_split': [3, 5, 7],\n",
              "                         'n_estimators': [1000, 1500, 1800, 2100]},\n",
              "             pre_dispatch='2*n_jobs', refit=True, return_train_score=False,\n",
              "             scoring=None, verbose=2)"
            ]
          },
          "metadata": {
            "tags": []
          },
          "execution_count": 62
        }
      ]
    },
    {
      "cell_type": "code",
      "metadata": {
        "colab": {
          "base_uri": "https://localhost:8080/"
        },
        "id": "UZIFesAsqEqH",
        "outputId": "03d2103c-e2e1-499c-e667-08b8949fc46d"
      },
      "source": [
        "#Se imprimen cuales son los mejores parámetros\n",
        "grid_search.best_params_"
      ],
      "execution_count": null,
      "outputs": [
        {
          "output_type": "execute_result",
          "data": {
            "text/plain": [
              "{'bootstrap': False,\n",
              " 'max_depth': 80,\n",
              " 'max_features': 3,\n",
              " 'min_samples_leaf': 1,\n",
              " 'min_samples_split': 5,\n",
              " 'n_estimators': 2100}"
            ]
          },
          "metadata": {
            "tags": []
          },
          "execution_count": 63
        }
      ]
    },
    {
      "cell_type": "markdown",
      "metadata": {
        "id": "bEmB71ttNVNQ"
      },
      "source": [
        "# **Predicción Para la métrica \"Responses_Creating_Leads\"**"
      ]
    },
    {
      "cell_type": "code",
      "metadata": {
        "id": "_CM1Q8AExrul"
      },
      "source": [
        "#Se crean arrays para las variables a predecir\n",
        "import numpy  as np\n",
        "y_train_Leads = np.asarray(y_train_Leads, dtype=\"|S6\")\n",
        "y_test_Leads = np.asarray(y_test_Leads, dtype=\"|S6\")"
      ],
      "execution_count": null,
      "outputs": []
    },
    {
      "cell_type": "markdown",
      "metadata": {
        "id": "Zbz2-cSZpYEL"
      },
      "source": [
        "Random Forest Classifier - N = 10\n",
        "\n"
      ]
    },
    {
      "cell_type": "code",
      "metadata": {
        "colab": {
          "base_uri": "https://localhost:8080/"
        },
        "id": "wNWRtXRa5zGi",
        "outputId": "07c8f200-5cb6-4284-d9fd-27ebe50d3157"
      },
      "source": [
        "from sklearn.ensemble import RandomForestClassifier\n",
        "from sklearn.metrics import accuracy_score, confusion_matrix, classification_report\n",
        "#Se instancia y se hace el fit de RandomForestClassifier\n",
        "forest2 = RandomForestClassifier(n_estimators = 10, random_state=25)\n",
        "forest2.fit(X_train_Leads, y_train_Leads)\n",
        "#Se hace la prediccion para el test set\n",
        "y_pred_Leads_test2 = forest2.predict(X_test_Leads)\n",
        "#Se imprime el score de accuracy\n",
        "from sklearn.metrics import accuracy_score, confusion_matrix, classification_report\n",
        "print('Accuracy = {:0.2f}%.'.format(accuracy_score(y_test_Leads, y_pred_Leads_test2)*100))"
      ],
      "execution_count": null,
      "outputs": [
        {
          "output_type": "stream",
          "text": [
            "Accuracy = 89.65%.\n"
          ],
          "name": "stdout"
        }
      ]
    },
    {
      "cell_type": "code",
      "metadata": {
        "id": "P2Srythgw64d"
      },
      "source": [
        "#Se crea una nueva variable Base Accuracy\n",
        "Base_Accuracy = accuracy_score(y_test_Leads, y_pred_Leads_test2)"
      ],
      "execution_count": null,
      "outputs": []
    },
    {
      "cell_type": "code",
      "metadata": {
        "colab": {
          "base_uri": "https://localhost:8080/"
        },
        "id": "RdPLB0xLnews",
        "outputId": "f9d11151-6c0e-4af1-975b-9cc2219114ec"
      },
      "source": [
        "#Matriz de confusion\n",
        "confusion_matrix(y_test_Leads, y_pred_Leads_test2)"
      ],
      "execution_count": null,
      "outputs": [
        {
          "output_type": "execute_result",
          "data": {
            "text/plain": [
              "array([[4256,  338],\n",
              "       [ 329, 1524]])"
            ]
          },
          "metadata": {
            "tags": []
          },
          "execution_count": 61
        }
      ]
    },
    {
      "cell_type": "code",
      "metadata": {
        "colab": {
          "base_uri": "https://localhost:8080/",
          "height": 481
        },
        "id": "Kw93IRfHnepq",
        "outputId": "3c651297-fd82-4fad-f399-3bcd3cd2a8dc"
      },
      "source": [
        "#Se crea variable con la Matriz de Confusion\n",
        "matrix = confusion_matrix(y_test_Leads, y_pred_Leads_test2)\n",
        "matrix = matrix.astype('float') / matrix.sum(axis=1)[:, np.newaxis]\n",
        "\n",
        "#Se crea el plot\n",
        "plt.figure(figsize=(16,7))\n",
        "sns.set(font_scale=1.4)\n",
        "sns.heatmap(matrix, annot=True, annot_kws={'size':10},\n",
        "            cmap=plt.cm.Greens, linewidths=0.2)\n",
        "\n",
        "#Se agregan labels al plot\n",
        "class_names = ['0', '1']\n",
        "tick_marks = np.arange(len(class_names))\n",
        "tick_marks2 = tick_marks + 0.5\n",
        "plt.xticks(tick_marks, class_names, rotation=25)\n",
        "plt.yticks(tick_marks2, class_names, rotation=0)\n",
        "plt.xlabel('Predicted label')\n",
        "plt.ylabel('True label')\n",
        "plt.title('Confusion Matrix for Random Forest Model')\n",
        "plt.show()"
      ],
      "execution_count": null,
      "outputs": [
        {
          "output_type": "display_data",
          "data": {
            "image/png": "[encoded data removed]",
            "text/plain": [
              "<Figure size 1152x504 with 2 Axes>"
            ]
          },
          "metadata": {
            "tags": []
          }
        }
      ]
    },
    {
      "cell_type": "code",
      "metadata": {
        "colab": {
          "base_uri": "https://localhost:8080/"
        },
        "id": "e8e_KIoKneg4",
        "outputId": "7730709d-f087-4b07-965c-1f7502c00853"
      },
      "source": [
        "#Se ve el reporte de clasificacion para test data y predicciones\n",
        "print(classification_report(y_test_Leads, y_pred_Leads_test2))"
      ],
      "execution_count": null,
      "outputs": [
        {
          "output_type": "stream",
          "text": [
            "              precision    recall  f1-score   support\n",
            "\n",
            "        b'0'       0.93      0.93      0.93      4594\n",
            "        b'1'       0.82      0.82      0.82      1853\n",
            "\n",
            "    accuracy                           0.90      6447\n",
            "   macro avg       0.87      0.87      0.87      6447\n",
            "weighted avg       0.90      0.90      0.90      6447\n",
            "\n"
          ],
          "name": "stdout"
        }
      ]
    },
    {
      "cell_type": "markdown",
      "metadata": {
        "id": "mckCfFGmpqfp"
      },
      "source": [
        "Random Forest Classifier - N = 1577"
      ]
    },
    {
      "cell_type": "code",
      "metadata": {
        "colab": {
          "base_uri": "https://localhost:8080/"
        },
        "id": "fxVc_-PMneTJ",
        "outputId": "e8d7757b-18a2-420e-eb25-a8f8154bdaf2"
      },
      "source": [
        "#Se instancia y se hace el fit de RandomForestClassifier con el valor en N obtenido en Random Search\n",
        "forest3 = RandomForestClassifier(n_estimators = 1577, bootstrap = False,max_depth = 70, max_features = 'sqrt', min_samples_leaf = 1, min_samples_split = 5, random_state=25 )\n",
        "forest3.fit(X_train_Leads, y_train_Leads)\n",
        "#Se hace la prediccion para el test set\n",
        "y_pred_Leads_test3 = forest3.predict(X_test_Leads)\n",
        "#Se imprime el score de accuracy\n",
        "from sklearn.metrics import accuracy_score, confusion_matrix, classification_report\n",
        "print('Accuracy = {:0.2f}%.'.format(accuracy_score(y_test_Leads, y_pred_Leads_test3)*100))"
      ],
      "execution_count": null,
      "outputs": [
        {
          "output_type": "stream",
          "text": [
            "Accuracy = 90.45%.\n"
          ],
          "name": "stdout"
        }
      ]
    },
    {
      "cell_type": "code",
      "metadata": {
        "id": "Lvm8wy95xFaD"
      },
      "source": [
        "#Se crea una nueva variable Best Random Accuracy\n",
        "Best_Random_Accuracy = accuracy_score(y_test_Leads, y_pred_Leads_test3)"
      ],
      "execution_count": null,
      "outputs": []
    },
    {
      "cell_type": "code",
      "metadata": {
        "colab": {
          "base_uri": "https://localhost:8080/"
        },
        "id": "-J8tCZY8p3X1",
        "outputId": "03927759-62d3-475a-a7c7-e5a1a627e9e8"
      },
      "source": [
        "#Matriz de confusion\n",
        "confusion_matrix(y_test_Leads, y_pred_Leads_test3)"
      ],
      "execution_count": null,
      "outputs": [
        {
          "output_type": "execute_result",
          "data": {
            "text/plain": [
              "array([[4271,  323],\n",
              "       [ 293, 1560]])"
            ]
          },
          "metadata": {
            "tags": []
          },
          "execution_count": 49
        }
      ]
    },
    {
      "cell_type": "code",
      "metadata": {
        "colab": {
          "base_uri": "https://localhost:8080/",
          "height": 481
        },
        "id": "ddyb83Cwp3PM",
        "outputId": "52171572-5aa7-408b-cd74-8b3c6f5eb98e"
      },
      "source": [
        "#Se crea variable con la Matriz de Confusion\n",
        "matrix = confusion_matrix(y_test_Leads, y_pred_Leads_test3)\n",
        "matrix = matrix.astype('float') / matrix.sum(axis=1)[:, np.newaxis]\n",
        "\n",
        "#Se crea el plot\n",
        "plt.figure(figsize=(16,7))\n",
        "sns.set(font_scale=1.4)\n",
        "sns.heatmap(matrix, annot=True, annot_kws={'size':10},\n",
        "            cmap=plt.cm.Greens, linewidths=0.2)\n",
        "\n",
        "#Se agregan labels al plot\n",
        "class_names = ['0', '1']\n",
        "tick_marks = np.arange(len(class_names))\n",
        "tick_marks2 = tick_marks + 0.5\n",
        "plt.xticks(tick_marks, class_names, rotation=25)\n",
        "plt.yticks(tick_marks2, class_names, rotation=0)\n",
        "plt.xlabel('Predicted label')\n",
        "plt.ylabel('True label')\n",
        "plt.title('Confusion Matrix for Random Forest Model')\n",
        "plt.show()"
      ],
      "execution_count": null,
      "outputs": [
        {
          "output_type": "display_data",
          "data": {
            "image/png": "[encoded data removed]",
            "text/plain": [
              "<Figure size 1152x504 with 2 Axes>"
            ]
          },
          "metadata": {
            "tags": []
          }
        }
      ]
    },
    {
      "cell_type": "code",
      "metadata": {
        "colab": {
          "base_uri": "https://localhost:8080/"
        },
        "id": "nFcKr_HUp3GP",
        "outputId": "42d9b9a4-115c-4637-9028-3fb61aa12e10"
      },
      "source": [
        "#Se ve el reporte de clasificacion para test data y predicciones\n",
        "print(classification_report(y_test_Leads, y_pred_Leads_test3))"
      ],
      "execution_count": null,
      "outputs": [
        {
          "output_type": "stream",
          "text": [
            "              precision    recall  f1-score   support\n",
            "\n",
            "        b'0'       0.94      0.93      0.93      4594\n",
            "        b'1'       0.83      0.84      0.84      1853\n",
            "\n",
            "    accuracy                           0.90      6447\n",
            "   macro avg       0.88      0.89      0.88      6447\n",
            "weighted avg       0.90      0.90      0.90      6447\n",
            "\n"
          ],
          "name": "stdout"
        }
      ]
    },
    {
      "cell_type": "markdown",
      "metadata": {
        "id": "SEkQ0i2ksuYi"
      },
      "source": [
        "Random Forest Classifier - N = 2100"
      ]
    },
    {
      "cell_type": "code",
      "metadata": {
        "colab": {
          "base_uri": "https://localhost:8080/"
        },
        "id": "5rnLz9SmsvbF",
        "outputId": "59d047ad-10a2-4bb4-ced4-ff506c845767"
      },
      "source": [
        "#Se instancia y se hace el fit de RandomForestClassifier con el valor en N obtenido en Grid Search\n",
        "forest4 = RandomForestClassifier(n_estimators = 2100, bootstrap = False,max_depth = 80, max_features = 3, min_samples_leaf = 1, min_samples_split = 5, random_state=25 )\n",
        "forest4.fit(X_train_Leads, y_train_Leads)\n",
        "#Se hace la prediccion para el test set\n",
        "y_pred_Leads_test4 = forest4.predict(X_test_Leads)\n",
        "#Se imprime el score de accuracy\n",
        "from sklearn.metrics import accuracy_score, confusion_matrix, classification_report\n",
        "print('Accuracy = {:0.2f}%.'.format(accuracy_score(y_test_Leads, y_pred_Leads_test4)*100))"
      ],
      "execution_count": null,
      "outputs": [
        {
          "output_type": "stream",
          "text": [
            "Accuracy = 90.20%.\n"
          ],
          "name": "stdout"
        }
      ]
    },
    {
      "cell_type": "code",
      "metadata": {
        "id": "aIauNF_qxs7h"
      },
      "source": [
        "#Se crea una nueva variable Best Grid Search\n",
        "Grid_Accuracy = accuracy_score(y_test_Leads, y_pred_Leads_test4)"
      ],
      "execution_count": null,
      "outputs": []
    },
    {
      "cell_type": "code",
      "metadata": {
        "colab": {
          "base_uri": "https://localhost:8080/"
        },
        "id": "TZrKHaAgswSK",
        "outputId": "0328be63-c789-43f7-af8c-7c65eb5b30b1"
      },
      "source": [
        "#Matriz de confusion\n",
        "confusion_matrix(y_test_Leads, y_pred_Leads_test4)"
      ],
      "execution_count": null,
      "outputs": [
        {
          "output_type": "execute_result",
          "data": {
            "text/plain": [
              "array([[4286,  308],\n",
              "       [ 324, 1529]])"
            ]
          },
          "metadata": {
            "tags": []
          },
          "execution_count": 55
        }
      ]
    },
    {
      "cell_type": "code",
      "metadata": {
        "colab": {
          "base_uri": "https://localhost:8080/",
          "height": 481
        },
        "id": "ojzVPMkbswJU",
        "outputId": "43b2494e-274b-4a1f-a4d7-64f78ad7f893"
      },
      "source": [
        "#Se crea variable con la Matriz de Confusion\n",
        "matrix = confusion_matrix(y_test_Leads, y_pred_Leads_test4)\n",
        "matrix = matrix.astype('float') / matrix.sum(axis=1)[:, np.newaxis]\n",
        "\n",
        "#Se crea el plot\n",
        "plt.figure(figsize=(16,7))\n",
        "sns.set(font_scale=1.4)\n",
        "sns.heatmap(matrix, annot=True, annot_kws={'size':10},\n",
        "            cmap=plt.cm.Greens, linewidths=0.2)\n",
        "\n",
        "#Se agregan labels al plot\n",
        "class_names = ['0', '1']\n",
        "tick_marks = np.arange(len(class_names))\n",
        "tick_marks2 = tick_marks + 0.5\n",
        "plt.xticks(tick_marks, class_names, rotation=25)\n",
        "plt.yticks(tick_marks2, class_names, rotation=0)\n",
        "plt.xlabel('Predicted label')\n",
        "plt.ylabel('True label')\n",
        "plt.title('Confusion Matrix for Random Forest Model')\n",
        "plt.show()"
      ],
      "execution_count": null,
      "outputs": [
        {
          "output_type": "display_data",
          "data": {
            "image/png": "[encoded data removed]",
            "text/plain": [
              "<Figure size 1152x504 with 2 Axes>"
            ]
          },
          "metadata": {
            "tags": []
          }
        }
      ]
    },
    {
      "cell_type": "code",
      "metadata": {
        "colab": {
          "base_uri": "https://localhost:8080/"
        },
        "id": "BPG6-Wu6sv9h",
        "outputId": "b276f69b-8656-4c4f-f873-53ec8d64c44d"
      },
      "source": [
        "#Se ve el reporte de clasificacion para test data y predicciones\n",
        "print(classification_report(y_test_Leads, y_pred_Leads_test4))"
      ],
      "execution_count": null,
      "outputs": [
        {
          "output_type": "stream",
          "text": [
            "              precision    recall  f1-score   support\n",
            "\n",
            "        b'0'       0.93      0.93      0.93      4594\n",
            "        b'1'       0.83      0.83      0.83      1853\n",
            "\n",
            "    accuracy                           0.90      6447\n",
            "   macro avg       0.88      0.88      0.88      6447\n",
            "weighted avg       0.90      0.90      0.90      6447\n",
            "\n"
          ],
          "name": "stdout"
        }
      ]
    },
    {
      "cell_type": "markdown",
      "metadata": {
        "id": "I63UEoFs5Mq9"
      },
      "source": [
        "**Comparación de Modelos**"
      ]
    },
    {
      "cell_type": "markdown",
      "metadata": {
        "id": "kOErqzXDyAeM"
      },
      "source": [
        "Modelo Base contra Modelo Best Random Search "
      ]
    },
    {
      "cell_type": "code",
      "metadata": {
        "colab": {
          "base_uri": "https://localhost:8080/"
        },
        "id": "r4tm0RVPyUvx",
        "outputId": "45c67d84-8995-4472-c92b-94c282701c2b"
      },
      "source": [
        "print('Mejora: {:0.2f}%.'.format( 100 * (Best_Random_Accuracy - Base_Accuracy) / Base_Accuracy))"
      ],
      "execution_count": null,
      "outputs": [
        {
          "output_type": "stream",
          "text": [
            "Mejora: 0.88%.\n"
          ],
          "name": "stdout"
        }
      ]
    },
    {
      "cell_type": "markdown",
      "metadata": {
        "id": "UHeKB3kwzJR3"
      },
      "source": [
        "Modelo Base contra Modelo Best Grid Search"
      ]
    },
    {
      "cell_type": "code",
      "metadata": {
        "colab": {
          "base_uri": "https://localhost:8080/"
        },
        "id": "y-J7OABEzZ2r",
        "outputId": "7718d33d-0816-4c17-ec2e-96eb5d785e50"
      },
      "source": [
        "print('Mejora: {:0.2f}%.'.format( 100 * (Grid_Accuracy - Base_Accuracy) / Base_Accuracy))"
      ],
      "execution_count": null,
      "outputs": [
        {
          "output_type": "stream",
          "text": [
            "Mejora: 0.61%.\n"
          ],
          "name": "stdout"
        }
      ]
    },
    {
      "cell_type": "code",
      "metadata": {
        "colab": {
          "base_uri": "https://localhost:8080/"
        },
        "id": "B5y6TnRE1R3I",
        "outputId": "14e0ae85-a3b4-4298-894b-9c540eb11a54"
      },
      "source": [
        "#Se crea una tabla con las variables que se necesitan para realizar comparación entre los modelos\n",
        "import pandas as pd\n",
        "data = {'Model':  ['Base', 'Best_Random_Search','Best_Grid_Search'],\n",
        "        'Accuracy': [89.65, 90.45,90.20],\n",
        "        'N_Arboles': [10, 1577,2100],\n",
        "        'Precision': [82,83,83],\n",
        "        'Recall': [82,84,83],\n",
        "        'F1_Score': [82,84,83]\n",
        "        }\n",
        "comparison = pd.DataFrame (data, columns = ['Model','Accuracy','N_Arboles','Precision','Recall','F1_Score'])\n",
        "print (comparison)"
      ],
      "execution_count": null,
      "outputs": [
        {
          "output_type": "stream",
          "text": [
            "                Model  Accuracy  N_Arboles  Precision  Recall  F1_Score\n",
            "0                Base     89.65         10         82      82        82\n",
            "1  Best_Random_Search     90.45       1577         83      84        84\n",
            "2    Best_Grid_Search     90.20       2100         83      83        83\n"
          ],
          "name": "stdout"
        }
      ]
    },
    {
      "cell_type": "code",
      "metadata": {
        "colab": {
          "base_uri": "https://localhost:8080/",
          "height": 509
        },
        "id": "RF7wAb1d0yKX",
        "outputId": "a80fe70d-635a-4f3d-8d2f-f01a602400ed"
      },
      "source": [
        "#Gráfico sobre comparación de Accuracy\n",
        "xvalues = list(range(len(comparison)))\n",
        "plt.subplots(1, figsize=(10, 6))\n",
        "plt.subplot(121)\n",
        "plt.bar(xvalues, comparison['Accuracy'], color = 'g', edgecolor = 'k', linewidth = 1.8)\n",
        "plt.xticks(xvalues, comparison['Model'], rotation = 45, fontsize = 12)\n",
        "plt.ylim(ymin = 89.5, ymax = 90.5)\n",
        "plt.xlabel('Model'); plt.ylabel('Accuracy (%)'); plt.title('Accuracy Comparison');\n",
        "plt.show();"
      ],
      "execution_count": null,
      "outputs": [
        {
          "output_type": "display_data",
          "data": {
            "image/png": "[encoded data removed]",
            "text/plain": [
              "<Figure size 720x432 with 1 Axes>"
            ]
          },
          "metadata": {
            "tags": []
          }
        }
      ]
    },
    {
      "cell_type": "code",
      "metadata": {
        "colab": {
          "base_uri": "https://localhost:8080/",
          "height": 509
        },
        "id": "rrIxOlVBCnQ6",
        "outputId": "7ddc2d02-ea75-4c8a-c509-56092871bf6c"
      },
      "source": [
        "#Gráfico sobre comparación de Precision\n",
        "xvalues = list(range(len(comparison)))\n",
        "plt.subplots(1, figsize=(10, 6))\n",
        "plt.subplot(121)\n",
        "plt.bar(xvalues, comparison['Precision'], color = 'b', edgecolor = 'k', linewidth = 1.8)\n",
        "plt.xticks(xvalues, comparison['Model'], rotation = 45, fontsize = 12)\n",
        "plt.ylim(ymin = 81.5, ymax = 83.25)\n",
        "plt.xlabel('Model'); plt.ylabel('Precision (%)'); plt.title('Precision Comparison');\n",
        "plt.show();"
      ],
      "execution_count": null,
      "outputs": [
        {
          "output_type": "display_data",
          "data": {
            "image/png": "[encoded data removed]",
            "text/plain": [
              "<Figure size 720x432 with 1 Axes>"
            ]
          },
          "metadata": {
            "tags": []
          }
        }
      ]
    },
    {
      "cell_type": "code",
      "metadata": {
        "colab": {
          "base_uri": "https://localhost:8080/",
          "height": 509
        },
        "id": "6DpgoEprDQSH",
        "outputId": "0fe32acb-5737-4ccd-cf44-2bde36d3d31c"
      },
      "source": [
        "#Gráfico sobre comparación de Recall\n",
        "import matplotlib.pyplot as plt\n",
        "xvalues = list(range(len(comparison)))\n",
        "plt.subplots(1, figsize=(10, 6))\n",
        "plt.subplot(121)\n",
        "plt.bar(xvalues, comparison['Recall'], color = 'r', edgecolor = 'k', linewidth = 1.8)\n",
        "plt.xticks(xvalues, comparison['Model'], rotation = 45, fontsize = 12)\n",
        "plt.ylim(ymin = 81.5, ymax = 84.25)\n",
        "plt.xlabel('Model'); plt.ylabel('Recall (%)'); plt.title('Recall Comparison');\n",
        "plt.show();"
      ],
      "execution_count": null,
      "outputs": [
        {
          "output_type": "display_data",
          "data": {
            "image/png": "[encoded data removed]",
            "text/plain": [
              "<Figure size 720x432 with 1 Axes>"
            ]
          },
          "metadata": {
            "tags": []
          }
        }
      ]
    },
    {
      "cell_type": "code",
      "metadata": {
        "colab": {
          "base_uri": "https://localhost:8080/",
          "height": 495
        },
        "id": "bbMks6aFpWxg",
        "outputId": "c7cf8391-032d-4b59-d327-82b25e0c570c"
      },
      "source": [
        "#Gráfico sobre comparación de F1 Score\n",
        "import matplotlib.pyplot as plt\n",
        "xvalues = list(range(len(comparison)))\n",
        "plt.subplots(1, figsize=(10, 6))\n",
        "plt.subplot(121)\n",
        "plt.bar(xvalues, comparison['F1_Score'], color = 'r', edgecolor = 'k', linewidth = 1.8)\n",
        "plt.xticks(xvalues, comparison['Model'], rotation = 45, fontsize = 12)\n",
        "plt.ylim(ymin = 81.5, ymax = 84.25)\n",
        "plt.xlabel('Model'); plt.ylabel('F1_Score (%)'); plt.title('F1_Score Comparison');\n",
        "plt.show();"
      ],
      "execution_count": null,
      "outputs": [
        {
          "output_type": "display_data",
          "data": {
            "image/png": "[encoded data removed]",
            "text/plain": [
              "<Figure size 720x432 with 1 Axes>"
            ]
          },
          "metadata": {
            "tags": [],
            "needs_background": "light"
          }
        }
      ]
    },
    {
      "cell_type": "markdown",
      "metadata": {
        "id": "Y14F6vgVJz86"
      },
      "source": [
        "# **Random Search Hyperparameter Converted** "
      ]
    },
    {
      "cell_type": "code",
      "metadata": {
        "colab": {
          "base_uri": "https://localhost:8080/"
        },
        "id": "vO2fDKntJ4Kf",
        "outputId": "93966297-1d92-4ee7-d9ac-6da784140059"
      },
      "source": [
        "#Se usa random grid para buscar hiperparametros\n",
        "#Se crea el modelo base\n",
        "rf_converted = RandomForestClassifier()\n",
        "#Random search de parametros, usando 3 fold cross validation, \n",
        "#Se busca a través de 100 combinaciones diferentes, y se usan todos los nucleos disponibles\n",
        "rf_random = RandomizedSearchCV(estimator = rf_converted, param_distributions = random_grid, n_iter = 100, cv = 3, verbose=2, random_state=42, n_jobs = -1)\n",
        "#Fit el modelo random search\n",
        "rf_random.fit(X_train_Converted, y_train_Converted)"
      ],
      "execution_count": null,
      "outputs": [
        {
          "output_type": "stream",
          "text": [
            "Fitting 3 folds for each of 100 candidates, totalling 300 fits\n"
          ],
          "name": "stdout"
        },
        {
          "output_type": "stream",
          "text": [
            "[Parallel(n_jobs=-1)]: Using backend LokyBackend with 2 concurrent workers.\n",
            "[Parallel(n_jobs=-1)]: Done  37 tasks      | elapsed:  1.8min\n",
            "[Parallel(n_jobs=-1)]: Done 158 tasks      | elapsed:  7.6min\n",
            "[Parallel(n_jobs=-1)]: Done 300 out of 300 | elapsed: 14.1min finished\n"
          ],
          "name": "stderr"
        },
        {
          "output_type": "execute_result",
          "data": {
            "text/plain": [
              "RandomizedSearchCV(cv=3, error_score=nan,\n",
              "                   estimator=RandomForestClassifier(bootstrap=True,\n",
              "                                                    ccp_alpha=0.0,\n",
              "                                                    class_weight=None,\n",
              "                                                    criterion='gini',\n",
              "                                                    max_depth=None,\n",
              "                                                    max_features='auto',\n",
              "                                                    max_leaf_nodes=None,\n",
              "                                                    max_samples=None,\n",
              "                                                    min_impurity_decrease=0.0,\n",
              "                                                    min_impurity_split=None,\n",
              "                                                    min_samples_leaf=1,\n",
              "                                                    min_samples_split=2,\n",
              "                                                    min_weight_fraction_leaf=0.0,\n",
              "                                                    n_estimators=100,\n",
              "                                                    n_jobs...\n",
              "                   iid='deprecated', n_iter=100, n_jobs=-1,\n",
              "                   param_distributions={'bootstrap': [True, False],\n",
              "                                        'max_depth': [10, 20, 30, 40, 50, 60,\n",
              "                                                      70, 80, 90, 100, 110,\n",
              "                                                      None],\n",
              "                                        'max_features': ['auto', 'sqrt'],\n",
              "                                        'min_samples_leaf': [1, 2, 4],\n",
              "                                        'min_samples_split': [2, 5, 10],\n",
              "                                        'n_estimators': [100, 311, 522, 733,\n",
              "                                                         944, 1155, 1366, 1577,\n",
              "                                                         1788, 2000]},\n",
              "                   pre_dispatch='2*n_jobs', random_state=42, refit=True,\n",
              "                   return_train_score=False, scoring=None, verbose=2)"
            ]
          },
          "metadata": {
            "tags": []
          },
          "execution_count": 29
        }
      ]
    },
    {
      "cell_type": "code",
      "metadata": {
        "colab": {
          "base_uri": "https://localhost:8080/"
        },
        "id": "z1Ya8-QZKM2S",
        "outputId": "2cc1047d-027a-4898-9741-a2c180844892"
      },
      "source": [
        "#Se imprimen cuales son los mejores parámetros\n",
        "rf_random.best_params_"
      ],
      "execution_count": null,
      "outputs": [
        {
          "output_type": "execute_result",
          "data": {
            "text/plain": [
              "{'bootstrap': False,\n",
              " 'max_depth': 100,\n",
              " 'max_features': 'sqrt',\n",
              " 'min_samples_leaf': 1,\n",
              " 'min_samples_split': 5,\n",
              " 'n_estimators': 733}"
            ]
          },
          "metadata": {
            "tags": []
          },
          "execution_count": 30
        }
      ]
    },
    {
      "cell_type": "markdown",
      "metadata": {
        "id": "5QnrZTlRUE0_"
      },
      "source": [
        "##**Grid Search with Cross Validation Converted**"
      ]
    },
    {
      "cell_type": "code",
      "metadata": {
        "id": "8PXra_0WUNYA"
      },
      "source": [
        "from sklearn.model_selection import GridSearchCV\n",
        "#Se crea el grid de parametros basado en los resultados de Random Search\n",
        "param_grid = {\n",
        "    'bootstrap': [False],\n",
        "    'max_depth': [80, 90, 100, 110],\n",
        "    'max_features': [2, 3],\n",
        "    'min_samples_leaf': [1, 2, 3],\n",
        "    'min_samples_split': [3, 5, 7],\n",
        "    'n_estimators': [1000, 1500, 1800, 2100]\n",
        "}\n",
        "#Se crea el modelo base\n",
        "rf = RandomForestClassifier()\n",
        "#Se instancia el modelo grid search\n",
        "grid_search = GridSearchCV(estimator = rf, param_grid = param_grid, \n",
        "                          cv = 3, n_jobs = -1, verbose = 2)"
      ],
      "execution_count": null,
      "outputs": []
    },
    {
      "cell_type": "code",
      "metadata": {
        "colab": {
          "base_uri": "https://localhost:8080/"
        },
        "id": "Mk92MUq-VJFh",
        "outputId": "1a1cc028-7744-4eeb-c559-e1eaeade0df8"
      },
      "source": [
        "#Se hace el fit grid search en los datos\n",
        "grid_search.fit(X_train_Converted, y_train_Converted)"
      ],
      "execution_count": null,
      "outputs": [
        {
          "output_type": "stream",
          "text": [
            "Fitting 3 folds for each of 288 candidates, totalling 864 fits\n"
          ],
          "name": "stdout"
        },
        {
          "output_type": "stream",
          "text": [
            "[Parallel(n_jobs=-1)]: Using backend LokyBackend with 2 concurrent workers.\n",
            "[Parallel(n_jobs=-1)]: Done  37 tasks      | elapsed:  2.3min\n",
            "[Parallel(n_jobs=-1)]: Done 158 tasks      | elapsed:  8.1min\n",
            "[Parallel(n_jobs=-1)]: Done 361 tasks      | elapsed: 18.1min\n",
            "[Parallel(n_jobs=-1)]: Done 644 tasks      | elapsed: 31.8min\n",
            "[Parallel(n_jobs=-1)]: Done 864 out of 864 | elapsed: 42.6min finished\n"
          ],
          "name": "stderr"
        },
        {
          "output_type": "execute_result",
          "data": {
            "text/plain": [
              "GridSearchCV(cv=3, error_score=nan,\n",
              "             estimator=RandomForestClassifier(bootstrap=True, ccp_alpha=0.0,\n",
              "                                              class_weight=None,\n",
              "                                              criterion='gini', max_depth=None,\n",
              "                                              max_features='auto',\n",
              "                                              max_leaf_nodes=None,\n",
              "                                              max_samples=None,\n",
              "                                              min_impurity_decrease=0.0,\n",
              "                                              min_impurity_split=None,\n",
              "                                              min_samples_leaf=1,\n",
              "                                              min_samples_split=2,\n",
              "                                              min_weight_fraction_leaf=0.0,\n",
              "                                              n_estimators=100, n_jobs=None,\n",
              "                                              oob_score=False,\n",
              "                                              random_state=None, verbose=0,\n",
              "                                              warm_start=False),\n",
              "             iid='deprecated', n_jobs=-1,\n",
              "             param_grid={'bootstrap': [False], 'max_depth': [80, 90, 100, 110],\n",
              "                         'max_features': [2, 3], 'min_samples_leaf': [1, 2, 3],\n",
              "                         'min_samples_split': [3, 5, 7],\n",
              "                         'n_estimators': [1000, 1500, 1800, 2100]},\n",
              "             pre_dispatch='2*n_jobs', refit=True, return_train_score=False,\n",
              "             scoring=None, verbose=2)"
            ]
          },
          "metadata": {
            "tags": []
          },
          "execution_count": 40
        }
      ]
    },
    {
      "cell_type": "code",
      "metadata": {
        "colab": {
          "base_uri": "https://localhost:8080/"
        },
        "id": "XhQ-QsQbVI4N",
        "outputId": "4c2dffa3-ec51-4ecf-cafb-5cf01602e228"
      },
      "source": [
        "#Se imprimen cuales son los mejores parámetros\n",
        "grid_search.best_params_"
      ],
      "execution_count": null,
      "outputs": [
        {
          "output_type": "execute_result",
          "data": {
            "text/plain": [
              "{'bootstrap': False,\n",
              " 'max_depth': 80,\n",
              " 'max_features': 2,\n",
              " 'min_samples_leaf': 1,\n",
              " 'min_samples_split': 3,\n",
              " 'n_estimators': 1000}"
            ]
          },
          "metadata": {
            "tags": []
          },
          "execution_count": 41
        }
      ]
    },
    {
      "cell_type": "markdown",
      "metadata": {
        "id": "EV5SU88lrsav"
      },
      "source": [
        "# **Predicción Para la métrica \"Converted_Leads_From_Lead_Creating_Responses\"**"
      ]
    },
    {
      "cell_type": "code",
      "metadata": {
        "id": "TVpALBWasg96"
      },
      "source": [
        "y_train_Converted = np.asarray(y_train_Converted, dtype=\"|S6\")\n",
        "y_test_Converted = np.asarray(y_test_Converted, dtype=\"|S6\")"
      ],
      "execution_count": null,
      "outputs": []
    },
    {
      "cell_type": "markdown",
      "metadata": {
        "id": "4-EilYy64G9k"
      },
      "source": [
        "Random Forest Classifier - N = 10"
      ]
    },
    {
      "cell_type": "code",
      "metadata": {
        "colab": {
          "base_uri": "https://localhost:8080/"
        },
        "id": "RFr_gaPD4Hac",
        "outputId": "d773c116-2701-4748-cc2d-09e8fc3c6266"
      },
      "source": [
        "from sklearn.metrics import accuracy_score, confusion_matrix, classification_report\n",
        "#Se instancia y se hace el fit de RandomForestClassifier\n",
        "forest_Converted4 = RandomForestClassifier(n_estimators = 10,random_state=10)\n",
        "forest_Converted4.fit(X_train_Converted, y_train_Converted)\n",
        "#Se hace la prediccion para el test set\n",
        "y_pred_Converted_test4 = forest_Converted4.predict(X_test_Converted)\n",
        "#Se imprime el score de accuracy\n",
        "Base_Accuracy_Conv = accuracy_score(y_test_Converted, y_pred_Converted_test4)\n",
        "print('Accuracy = {:0.2f}%.'.format(accuracy_score(y_test_Converted, y_pred_Converted_test4)*100))\n"
      ],
      "execution_count": null,
      "outputs": [
        {
          "output_type": "stream",
          "text": [
            "Accuracy = 98.12%.\n"
          ],
          "name": "stdout"
        }
      ]
    },
    {
      "cell_type": "code",
      "metadata": {
        "colab": {
          "base_uri": "https://localhost:8080/"
        },
        "id": "QhvWOOpW4IiY",
        "outputId": "50ff9ed6-c303-496c-e631-1cde37d47c59"
      },
      "source": [
        "#Matriz de confusion\n",
        "confusion_matrix(y_test_Converted, y_pred_Converted_test4)"
      ],
      "execution_count": null,
      "outputs": [
        {
          "output_type": "execute_result",
          "data": {
            "text/plain": [
              "array([[1805,    5],\n",
              "       [  30,   18]])"
            ]
          },
          "metadata": {
            "tags": []
          },
          "execution_count": 102
        }
      ]
    },
    {
      "cell_type": "code",
      "metadata": {
        "colab": {
          "base_uri": "https://localhost:8080/",
          "height": 481
        },
        "id": "2Wj_e4zH4Iat",
        "outputId": "9eb87713-f9ac-4bb3-ba8f-38dbbe869ea6"
      },
      "source": [
        "#Se crea variable con la Matriz de Confusion\n",
        "matrix = confusion_matrix(y_test_Converted, y_pred_Converted_test4)\n",
        "matrix = matrix.astype('float') / matrix.sum(axis=1)[:, np.newaxis]\n",
        "\n",
        "#Se crea el plot\n",
        "plt.figure(figsize=(16,7))\n",
        "sns.set(font_scale=1.4)\n",
        "sns.heatmap(matrix, annot=True, annot_kws={'size':10},\n",
        "            cmap=plt.cm.Greens, linewidths=0.2)\n",
        "\n",
        "#Se agregan labels al plot\n",
        "class_names = ['0', '1']\n",
        "tick_marks = np.arange(len(class_names))\n",
        "tick_marks2 = tick_marks + 0.5\n",
        "plt.xticks(tick_marks, class_names, rotation=25)\n",
        "plt.yticks(tick_marks2, class_names, rotation=0)\n",
        "plt.xlabel('Predicted label')\n",
        "plt.ylabel('True label')\n",
        "plt.title('Confusion Matrix for Random Forest Model')\n",
        "plt.show()"
      ],
      "execution_count": null,
      "outputs": [
        {
          "output_type": "display_data",
          "data": {
            "image/png": "[encoded data removed]",
            "text/plain": [
              "<Figure size 1152x504 with 2 Axes>"
            ]
          },
          "metadata": {
            "tags": []
          }
        }
      ]
    },
    {
      "cell_type": "code",
      "metadata": {
        "colab": {
          "base_uri": "https://localhost:8080/"
        },
        "id": "FXm0iB4t4IQ1",
        "outputId": "58390bb4-eda1-4c62-e12c-3268f9fbd616"
      },
      "source": [
        "#Se ve el reporte de clasificacion para test data y predicciones\n",
        "print(classification_report(y_test_Converted, y_pred_Converted_test4))"
      ],
      "execution_count": null,
      "outputs": [
        {
          "output_type": "stream",
          "text": [
            "              precision    recall  f1-score   support\n",
            "\n",
            "        b'0'       0.98      1.00      0.99      1810\n",
            "        b'1'       0.78      0.38      0.51        48\n",
            "\n",
            "    accuracy                           0.98      1858\n",
            "   macro avg       0.88      0.69      0.75      1858\n",
            "weighted avg       0.98      0.98      0.98      1858\n",
            "\n"
          ],
          "name": "stdout"
        }
      ]
    },
    {
      "cell_type": "markdown",
      "metadata": {
        "id": "YYpiZNxZQVAm"
      },
      "source": [
        "Random Forest Classifier - N = 733"
      ]
    },
    {
      "cell_type": "code",
      "metadata": {
        "id": "0qiJdNKpQWa1",
        "colab": {
          "base_uri": "https://localhost:8080/"
        },
        "outputId": "05ea4f06-6c12-47b7-c34c-91065ae0148a"
      },
      "source": [
        "#Se instancia y se hace el fit de RandomForestClassifier para el modelo Best Search\n",
        "forest_Converted5 = RandomForestClassifier(n_estimators = 733, bootstrap = False,max_depth = 100, max_features = 'sqrt', min_samples_leaf = 1, min_samples_split = 5,random_state=10 )\n",
        "forest_Converted5.fit(X_train_Converted, y_train_Converted)\n",
        "#Se hace la prediccion para el test set\n",
        "y_pred_Converted_test5 = forest_Converted5.predict(X_test_Converted)\n",
        "#Se imprime el score de accuracy\n",
        "Best_Random_Accuracy_Conv = accuracy_score(y_test_Converted, y_pred_Converted_test5)\n",
        "print('Accuracy = {:0.2f}%.'.format(accuracy_score(y_test_Converted, y_pred_Converted_test5)*100))"
      ],
      "execution_count": null,
      "outputs": [
        {
          "output_type": "stream",
          "text": [
            "Accuracy = 98.28%.\n"
          ],
          "name": "stdout"
        }
      ]
    },
    {
      "cell_type": "code",
      "metadata": {
        "colab": {
          "base_uri": "https://localhost:8080/"
        },
        "id": "iNK1T1BbQXGv",
        "outputId": "aca5bacf-32d4-411c-bf5e-ca230cc2eff9"
      },
      "source": [
        "#Matriz de confusion\n",
        "confusion_matrix(y_test_Converted, y_pred_Converted_test5)"
      ],
      "execution_count": null,
      "outputs": [
        {
          "output_type": "execute_result",
          "data": {
            "text/plain": [
              "array([[1808,    2],\n",
              "       [  30,   18]])"
            ]
          },
          "metadata": {
            "tags": []
          },
          "execution_count": 106
        }
      ]
    },
    {
      "cell_type": "code",
      "metadata": {
        "colab": {
          "base_uri": "https://localhost:8080/",
          "height": 481
        },
        "id": "ElMp4ixs54z_",
        "outputId": "e065e643-870a-4e72-cbad-53de325f5ec9"
      },
      "source": [
        "#Se crea variable con la Matriz de Confusion\n",
        "matrix = confusion_matrix(y_test_Converted, y_pred_Converted_test5)\n",
        "matrix = matrix.astype('float') / matrix.sum(axis=1)[:, np.newaxis]\n",
        "\n",
        "#Se crea el plot\n",
        "plt.figure(figsize=(16,7))\n",
        "sns.set(font_scale=1.4)\n",
        "sns.heatmap(matrix, annot=True, annot_kws={'size':10},\n",
        "            cmap=plt.cm.Greens, linewidths=0.2)\n",
        "\n",
        "#Se agregan labels al plot\n",
        "class_names = ['0', '1']\n",
        "tick_marks = np.arange(len(class_names))\n",
        "tick_marks2 = tick_marks + 0.5\n",
        "plt.xticks(tick_marks, class_names, rotation=25)\n",
        "plt.yticks(tick_marks2, class_names, rotation=0)\n",
        "plt.xlabel('Predicted label')\n",
        "plt.ylabel('True label')\n",
        "plt.title('Confusion Matrix for Random Forest Model')\n",
        "plt.show()"
      ],
      "execution_count": null,
      "outputs": [
        {
          "output_type": "display_data",
          "data": {
            "image/png": "[encoded data removed]",
            "text/plain": [
              "<Figure size 1152x504 with 2 Axes>"
            ]
          },
          "metadata": {
            "tags": []
          }
        }
      ]
    },
    {
      "cell_type": "code",
      "metadata": {
        "colab": {
          "base_uri": "https://localhost:8080/"
        },
        "id": "o_Tx-e-nQp4K",
        "outputId": "fdee91ce-4165-4953-dae1-40f68b72441f"
      },
      "source": [
        "#Se ve el reporte de clasificacion para test data y predicciones\n",
        "print(classification_report(y_test_Converted, y_pred_Converted_test5))"
      ],
      "execution_count": null,
      "outputs": [
        {
          "output_type": "stream",
          "text": [
            "              precision    recall  f1-score   support\n",
            "\n",
            "        b'0'       0.98      1.00      0.99      1810\n",
            "        b'1'       0.90      0.38      0.53        48\n",
            "\n",
            "    accuracy                           0.98      1858\n",
            "   macro avg       0.94      0.69      0.76      1858\n",
            "weighted avg       0.98      0.98      0.98      1858\n",
            "\n"
          ],
          "name": "stdout"
        }
      ]
    },
    {
      "cell_type": "markdown",
      "metadata": {
        "id": "zGo7LABggwWm"
      },
      "source": [
        "Random Forest Classifier - N = 1000\n",
        "\n"
      ]
    },
    {
      "cell_type": "code",
      "metadata": {
        "id": "OHf5feAmgw8q",
        "colab": {
          "base_uri": "https://localhost:8080/"
        },
        "outputId": "4e6299ab-c6fb-4d58-f7ad-84fe3d678312"
      },
      "source": [
        "#Se instancia y se hace el fit de RandomForestClassifier para el modelo Grid Search\n",
        "forest_Converted6 = RandomForestClassifier(n_estimators = 1000, bootstrap = False,max_depth = 80, max_features = 2, min_samples_leaf = 1, min_samples_split = 3,random_state=10 )\n",
        "forest_Converted6.fit(X_train_Converted, y_train_Converted)\n",
        "#Se hace la prediccion para el test set\n",
        "y_pred_Converted_test6 = forest_Converted6.predict(X_test_Converted)\n",
        "#Se imprime el score de accuracy\n",
        "Grid_Accuracy_Conv = accuracy_score(y_test_Converted, y_pred_Converted_test6)\n",
        "print('Accuracy = {:0.2f}%.'.format(accuracy_score(y_test_Converted, y_pred_Converted_test6)*100))"
      ],
      "execution_count": null,
      "outputs": [
        {
          "output_type": "stream",
          "text": [
            "Accuracy = 98.33%.\n"
          ],
          "name": "stdout"
        }
      ]
    },
    {
      "cell_type": "code",
      "metadata": {
        "colab": {
          "base_uri": "https://localhost:8080/"
        },
        "id": "aWh9U5rCgxh1",
        "outputId": "dc6d8e91-0bfe-4f11-bd62-39fbe9e00cde"
      },
      "source": [
        "#Matriz de confusion\n",
        "confusion_matrix(y_test_Converted, y_pred_Converted_test6)"
      ],
      "execution_count": null,
      "outputs": [
        {
          "output_type": "execute_result",
          "data": {
            "text/plain": [
              "array([[1808,    2],\n",
              "       [  29,   19]])"
            ]
          },
          "metadata": {
            "tags": []
          },
          "execution_count": 109
        }
      ]
    },
    {
      "cell_type": "code",
      "metadata": {
        "colab": {
          "base_uri": "https://localhost:8080/",
          "height": 481
        },
        "id": "xOLbkVBc6iD2",
        "outputId": "e13e6946-56ab-44fb-d68f-2b228bdf0455"
      },
      "source": [
        "#Se crea variable con la Matriz de Confusion\n",
        "matrix = confusion_matrix(y_test_Converted, y_pred_Converted_test6)\n",
        "matrix = matrix.astype('float') / matrix.sum(axis=1)[:, np.newaxis]\n",
        "\n",
        "#Se crea el plot\n",
        "plt.figure(figsize=(16,7))\n",
        "sns.set(font_scale=1.4)\n",
        "sns.heatmap(matrix, annot=True, annot_kws={'size':10},\n",
        "            cmap=plt.cm.Greens, linewidths=0.2)\n",
        "\n",
        "#Se agregan labels al plot\n",
        "class_names = ['0', '1']\n",
        "tick_marks = np.arange(len(class_names))\n",
        "tick_marks2 = tick_marks + 0.5\n",
        "plt.xticks(tick_marks, class_names, rotation=25)\n",
        "plt.yticks(tick_marks2, class_names, rotation=0)\n",
        "plt.xlabel('Predicted label')\n",
        "plt.ylabel('True label')\n",
        "plt.title('Confusion Matrix for Random Forest Model')\n",
        "plt.show()"
      ],
      "execution_count": null,
      "outputs": [
        {
          "output_type": "display_data",
          "data": {
            "image/png": "[encoded data removed]",
            "text/plain": [
              "<Figure size 1152x504 with 2 Axes>"
            ]
          },
          "metadata": {
            "tags": []
          }
        }
      ]
    },
    {
      "cell_type": "code",
      "metadata": {
        "colab": {
          "base_uri": "https://localhost:8080/"
        },
        "id": "uv77Uh4agxYt",
        "outputId": "a65599f4-d9b6-4455-8840-d181b2c116bf"
      },
      "source": [
        "#Se ve el reporte de clasificacion para test data y predicciones\n",
        "print(classification_report(y_test_Converted, y_pred_Converted_test6))"
      ],
      "execution_count": null,
      "outputs": [
        {
          "output_type": "stream",
          "text": [
            "              precision    recall  f1-score   support\n",
            "\n",
            "        b'0'       0.98      1.00      0.99      1810\n",
            "        b'1'       0.90      0.40      0.55        48\n",
            "\n",
            "    accuracy                           0.98      1858\n",
            "   macro avg       0.94      0.70      0.77      1858\n",
            "weighted avg       0.98      0.98      0.98      1858\n",
            "\n"
          ],
          "name": "stdout"
        }
      ]
    },
    {
      "cell_type": "markdown",
      "metadata": {
        "id": "_dsPcUjh6xkC"
      },
      "source": [
        "**Comparación de Modelos**"
      ]
    },
    {
      "cell_type": "markdown",
      "metadata": {
        "id": "mrPtiEwT6zwX"
      },
      "source": [
        "Modelo Base contra Modelo Best Random Search "
      ]
    },
    {
      "cell_type": "code",
      "metadata": {
        "colab": {
          "base_uri": "https://localhost:8080/"
        },
        "id": "mWydXNxP6ygu",
        "outputId": "e701abac-9165-42ff-c095-7a942b52755f"
      },
      "source": [
        "print('Mejora: {:0.2f}%.'.format( 100 * (Best_Random_Accuracy_Conv - Base_Accuracy_Conv) / Base_Accuracy_Conv))"
      ],
      "execution_count": null,
      "outputs": [
        {
          "output_type": "stream",
          "text": [
            "Mejora: 0.16%.\n"
          ],
          "name": "stdout"
        }
      ]
    },
    {
      "cell_type": "markdown",
      "metadata": {
        "id": "Xtdk05ne6908"
      },
      "source": [
        "Modelo Base contra Modelo Best Grid Search"
      ]
    },
    {
      "cell_type": "code",
      "metadata": {
        "colab": {
          "base_uri": "https://localhost:8080/"
        },
        "id": "l2zu0yba6-fJ",
        "outputId": "86ce0855-3161-4bc3-d06d-d175dd73c9aa"
      },
      "source": [
        "print('Mejora: {:0.2f}%.'.format( 100 * (Grid_Accuracy_Conv - Base_Accuracy_Conv) / Base_Accuracy_Conv))"
      ],
      "execution_count": null,
      "outputs": [
        {
          "output_type": "stream",
          "text": [
            "Mejora: 0.22%.\n"
          ],
          "name": "stdout"
        }
      ]
    },
    {
      "cell_type": "code",
      "metadata": {
        "colab": {
          "base_uri": "https://localhost:8080/"
        },
        "id": "k9OkIz0E7UT_",
        "outputId": "a5464762-75d4-4c76-c912-e8f9bc1e7068"
      },
      "source": [
        "#Se crea una tabla con las variables que se necesitan para realizar comparación entre los modelos\n",
        "Data_Converted = {'Model':  ['Base', 'Best_Random_Search','Best_Grid_Search'],\n",
        "        'Accuracy': [98.22, 98.28,98.33],\n",
        "        'N_Arboles': [10, 733,1000],\n",
        "        'Precision': [78,90,90],\n",
        "        'Recall': [38,38,40],\n",
        "        'F1-Score': [51,53,55]\n",
        "        }\n",
        "Comparison_Converted = pd.DataFrame (Data_Converted, columns = ['Model','Accuracy','N_Arboles','Precision','Recall','F1-Score'])\n",
        "print (Comparison_Converted)"
      ],
      "execution_count": null,
      "outputs": [
        {
          "output_type": "stream",
          "text": [
            "                Model  Accuracy  N_Arboles  Precision  Recall  F1-Score\n",
            "0                Base     98.22         10         78      38        51\n",
            "1  Best_Random_Search     98.28        733         90      38        53\n",
            "2    Best_Grid_Search     98.33       1000         90      40        55\n"
          ],
          "name": "stdout"
        }
      ]
    },
    {
      "cell_type": "code",
      "metadata": {
        "colab": {
          "base_uri": "https://localhost:8080/",
          "height": 509
        },
        "id": "pLVJ_d_R7UKy",
        "outputId": "2b9e7da2-87e5-43b5-c359-64bd495058e0"
      },
      "source": [
        "#Gráfico sobre comparación de Accuracy\n",
        "xvalues = list(range(len(Comparison_Converted)))\n",
        "plt.subplots(1, figsize=(10, 6))\n",
        "plt.subplot(121)\n",
        "plt.bar(xvalues, Comparison_Converted['Accuracy'], color = 'g', edgecolor = 'k', linewidth = 1.8)\n",
        "plt.xticks(xvalues, Comparison_Converted['Model'], rotation = 45, fontsize = 12)\n",
        "plt.ylim(ymin = 98.10, ymax = 98.35)\n",
        "plt.xlabel('Model'); plt.ylabel('Accuracy (%)'); plt.title('Accuracy Comparison');\n",
        "plt.show();"
      ],
      "execution_count": null,
      "outputs": [
        {
          "output_type": "display_data",
          "data": {
            "image/png": "[encoded data removed]",
            "text/plain": [
              "<Figure size 720x432 with 1 Axes>"
            ]
          },
          "metadata": {
            "tags": []
          }
        }
      ]
    },
    {
      "cell_type": "code",
      "metadata": {
        "colab": {
          "base_uri": "https://localhost:8080/",
          "height": 509
        },
        "id": "BtVX2sGcIsoQ",
        "outputId": "6813d629-a0b2-4128-b4ef-e058c8cb9eaa"
      },
      "source": [
        "#Gráfico sobre comparación de Precision\n",
        "xvalues = list(range(len(Comparison_Converted)))\n",
        "plt.subplots(1, figsize=(10, 6))\n",
        "plt.subplot(121)\n",
        "plt.bar(xvalues, Comparison_Converted['Precision'], color = 'b', edgecolor = 'k', linewidth = 1.8)\n",
        "plt.xticks(xvalues, Comparison_Converted['Model'], rotation = 45, fontsize = 12)\n",
        "plt.ylim(ymin = 77, ymax = 91)\n",
        "plt.xlabel('Model'); plt.ylabel('Precision (%)'); plt.title('Precision Comparison');\n",
        "plt.show();"
      ],
      "execution_count": null,
      "outputs": [
        {
          "output_type": "display_data",
          "data": {
            "image/png": "[encoded data removed]",
            "text/plain": [
              "<Figure size 720x432 with 1 Axes>"
            ]
          },
          "metadata": {
            "tags": []
          }
        }
      ]
    },
    {
      "cell_type": "code",
      "metadata": {
        "colab": {
          "base_uri": "https://localhost:8080/",
          "height": 509
        },
        "id": "6twI2TyXJIIv",
        "outputId": "0989da99-3e6e-4ef4-b0f1-889cd22630b9"
      },
      "source": [
        "#Gráfico sobre comparación de Recall\n",
        "xvalues = list(range(len(Comparison_Converted)))\n",
        "plt.subplots(1, figsize=(10, 6))\n",
        "plt.subplot(121)\n",
        "plt.bar(xvalues, Comparison_Converted['Recall'], color = 'r', edgecolor = 'k', linewidth = 1.8)\n",
        "plt.xticks(xvalues, Comparison_Converted['Model'], rotation = 45, fontsize = 12)\n",
        "plt.ylim(ymin = 37, ymax = 41)\n",
        "plt.xlabel('Model'); plt.ylabel('Recall (%)'); plt.title('Recall Comparison');\n",
        "plt.show();"
      ],
      "execution_count": null,
      "outputs": [
        {
          "output_type": "display_data",
          "data": {
            "image/png": "[encoded data removed]",
            "text/plain": [
              "<Figure size 720x432 with 1 Axes>"
            ]
          },
          "metadata": {
            "tags": []
          }
        }
      ]
    },
    {
      "cell_type": "code",
      "metadata": {
        "colab": {
          "base_uri": "https://localhost:8080/",
          "height": 495
        },
        "id": "qjRxYV629_gd",
        "outputId": "649a0ad4-7d6c-4b90-a09b-a00a70acb346"
      },
      "source": [
        "#Gráfico sobre comparación de F1 Score\n",
        "xvalues = list(range(len(Comparison_Converted)))\n",
        "plt.subplots(1, figsize=(10, 6))\n",
        "plt.subplot(121)\n",
        "plt.bar(xvalues, Comparison_Converted['F1-Score'], color = 'r', edgecolor = 'k', linewidth = 1.8)\n",
        "plt.xticks(xvalues, Comparison_Converted['Model'], rotation = 45, fontsize = 12)\n",
        "plt.ylim(ymin = 50.5, ymax = 55.5)\n",
        "plt.xlabel('Model'); plt.ylabel('F1-Score (%)'); plt.title('F1-Score Comparison');\n",
        "plt.show();"
      ],
      "execution_count": null,
      "outputs": [
        {
          "output_type": "display_data",
          "data": {
            "image/png": "[encoded data removed]",
            "text/plain": [
              "<Figure size 720x432 with 1 Axes>"
            ]
          },
          "metadata": {
            "tags": [],
            "needs_background": "light"
          }
        }
      ]
    },
    {
      "cell_type": "markdown",
      "metadata": {
        "id": "B785_bAw2rjI"
      },
      "source": [
        "# Naive Bayes Para la métrica \"Converted_Lead_From_Lead_Creating_Responses\""
      ]
    },
    {
      "cell_type": "code",
      "metadata": {
        "colab": {
          "base_uri": "https://localhost:8080/"
        },
        "id": "1PicEhJQ3qrX",
        "outputId": "39c2fd12-d736-41cf-ff2a-e3cc938ffd7d"
      },
      "source": [
        "# Se realiza el split en train test sets del dataset que va a predecir la métrica \"Converted_Leads_From_Lead_Creating_Responses\"\n",
        "X_train_ConvertedNV, X_test_ConvertedNV, y_train_ConvertedNV, y_test_ConvertedNV = train_test_split(X_Converted, y_Converted, test_size=0.30, random_state=109)\n",
        "print(X_train_ConvertedNV.shape, X_test_ConvertedNV.shape, y_train_ConvertedNV.shape, y_test_ConvertedNV.shape)"
      ],
      "execution_count": null,
      "outputs": [
        {
          "output_type": "stream",
          "text": [
            "(4334, 118) (1858, 118) (4334,) (1858,)\n"
          ],
          "name": "stdout"
        }
      ]
    },
    {
      "cell_type": "code",
      "metadata": {
        "id": "dZ_OyNYb5WKx"
      },
      "source": [
        "#Se hace import para el modelo Gaussian Naive Bayes\n",
        "from sklearn.naive_bayes import GaussianNB\n",
        "\n",
        "#Se crea Gaussian Classifier\n",
        "gnb = GaussianNB()\n",
        "\n",
        "#Se entrena el modelo usando el training set\n",
        "gnb.fit(X_train_ConvertedNV, y_train_ConvertedNV)\n",
        "\n",
        "#Se predice la respuesta para el test dataset\n",
        "y_pred_NV = gnb.predict(X_test_ConvertedNV)"
      ],
      "execution_count": null,
      "outputs": []
    },
    {
      "cell_type": "code",
      "metadata": {
        "colab": {
          "base_uri": "https://localhost:8080/"
        },
        "id": "-ldvTmPU5WBC",
        "outputId": "77407bd9-e143-41e3-8b3f-880aa7393e93"
      },
      "source": [
        "#Import de metricas de scikit-learn metrics\n",
        "from sklearn import metrics\n",
        "\n",
        "#Accurady del modelo\n",
        "print(\"Accuracy:\",metrics.accuracy_score(y_test_ConvertedNV, y_pred_NV))"
      ],
      "execution_count": null,
      "outputs": [
        {
          "output_type": "stream",
          "text": [
            "Accuracy: 0.9741657696447793\n"
          ],
          "name": "stdout"
        }
      ]
    },
    {
      "cell_type": "code",
      "metadata": {
        "colab": {
          "base_uri": "https://localhost:8080/"
        },
        "id": "JsUrUkYB81S7",
        "outputId": "1cd004ed-89df-48cd-c270-1d96235f1f94"
      },
      "source": [
        "#Matriz de confusion\n",
        "confusion_matrix(y_test_ConvertedNV, y_pred_NV)"
      ],
      "execution_count": null,
      "outputs": [
        {
          "output_type": "execute_result",
          "data": {
            "text/plain": [
              "array([[1810,    0],\n",
              "       [  48,    0]])"
            ]
          },
          "metadata": {
            "tags": []
          },
          "execution_count": 34
        }
      ]
    },
    {
      "cell_type": "code",
      "metadata": {
        "id": "Ua0oos-tJqQ-"
      },
      "source": [
        "#Los resultados no aciertan ninguna vez cuando la métrica va a ser 1. "
      ],
      "execution_count": null,
      "outputs": []
    }
  ]
}